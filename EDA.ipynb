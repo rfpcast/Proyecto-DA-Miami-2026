{
 "cells": [
  {
   "cell_type": "code",
   "execution_count": 4,
   "metadata": {},
   "outputs": [],
   "source": [
    "import pandas as pd\n",
    "import json\n",
    "import pickle"
   ]
  },
  {
   "cell_type": "markdown",
   "metadata": {},
   "source": [
    "# DATASET YELP"
   ]
  },
  {
   "cell_type": "markdown",
   "metadata": {},
   "source": [
    "## archivo business.pkl"
   ]
  },
  {
   "cell_type": "code",
   "execution_count": 185,
   "metadata": {},
   "outputs": [],
   "source": [
    "df_business= pd.read_pickle('C:\\\\Users\\\\Giuliano\\\\Desktop\\\\Proyecto grupal\\\\yelp\\\\business.pkl')"
   ]
  },
  {
   "cell_type": "code",
   "execution_count": null,
   "metadata": {},
   "outputs": [],
   "source": [
    "# Enumeramos cada columna para distinguirlas\n",
    "df_business.columns = [f'{col}_{i}' if df_business.columns.duplicated().any() else col for i, col in enumerate(df_business.columns)]"
   ]
  },
  {
   "cell_type": "code",
   "execution_count": null,
   "metadata": {},
   "outputs": [],
   "source": [
    "# Borramos columnas \n",
    "df_business = df_business.drop(columns=[\"business_id_14\",\"name_15\",\"address_16\",\"city_17\",\"state_18\",\"postal_code_19\",\"latitude_20\",\"longitude_21\",\"stars_22\",\"review_count_23\"\t,\"is_open_24\",\"attributes_25\",\"categories_26\",\"hours_27\"])"
   ]
  },
  {
   "cell_type": "code",
   "execution_count": null,
   "metadata": {},
   "outputs": [],
   "source": [
    "# Renombramos columnas\n",
    "df_business = df_business.rename(columns={'business_id_0': 'business_id', \n",
    "                            'name_1': 'name',\n",
    "                            'address_2': 'address',\n",
    "                            'city_3': 'city',\n",
    "                            'state_4': 'state',\n",
    "                            'postal_code_5': 'postal_code',\n",
    "                            'latitude_6': 'latitude',\n",
    "                            'longitude_7': 'longitude',\n",
    "                            'stars_8': 'stars',\n",
    "                            'review_count_9': 'review_count',\n",
    "                            'is_open_10': 'is_open',\n",
    "                            'attributes_11': 'attributes',\n",
    "                            'categories_12': 'categories',\n",
    "                            'hours_13': 'hours'})"
   ]
  },
  {
   "cell_type": "code",
   "execution_count": null,
   "metadata": {},
   "outputs": [],
   "source": [
    "df_business.to_csv(\"df_business.csv\")"
   ]
  },
  {
   "cell_type": "code",
   "execution_count": 10,
   "metadata": {},
   "outputs": [
    {
     "name": "stdout",
     "output_type": "stream",
     "text": [
      "<class 'pandas.core.frame.DataFrame'>\n",
      "RangeIndex: 150346 entries, 0 to 150345\n",
      "Data columns (total 15 columns):\n",
      " #   Column        Non-Null Count   Dtype  \n",
      "---  ------        --------------   -----  \n",
      " 0   Unnamed: 0    150346 non-null  int64  \n",
      " 1   business_id   150346 non-null  object \n",
      " 2   name          150346 non-null  object \n",
      " 3   address       145219 non-null  object \n",
      " 4   city          150346 non-null  object \n",
      " 5   state         150343 non-null  object \n",
      " 6   postal_code   150273 non-null  object \n",
      " 7   latitude      150346 non-null  float64\n",
      " 8   longitude     150346 non-null  float64\n",
      " 9   stars         150346 non-null  float64\n",
      " 10  review_count  150346 non-null  int64  \n",
      " 11  is_open       150346 non-null  int64  \n",
      " 12  attributes    136602 non-null  object \n",
      " 13  categories    150243 non-null  object \n",
      " 14  hours         127123 non-null  object \n",
      "dtypes: float64(3), int64(3), object(9)\n",
      "memory usage: 17.2+ MB\n"
     ]
    }
   ],
   "source": [
    "df_business.info()"
   ]
  },
  {
   "cell_type": "markdown",
   "metadata": {},
   "source": [
    "Valores nulos"
   ]
  },
  {
   "cell_type": "code",
   "execution_count": 161,
   "metadata": {},
   "outputs": [
    {
     "data": {
      "text/plain": [
       "13744"
      ]
     },
     "execution_count": 161,
     "metadata": {},
     "output_type": "execute_result"
    }
   ],
   "source": [
    "df_business[\"attributes\"].isnull().sum()"
   ]
  },
  {
   "cell_type": "markdown",
   "metadata": {},
   "source": [
    "Duplicados"
   ]
  },
  {
   "cell_type": "code",
   "execution_count": 162,
   "metadata": {},
   "outputs": [],
   "source": [
    "duplicados = df_business[df_business[\"business_id\"].duplicated()]"
   ]
  },
  {
   "cell_type": "markdown",
   "metadata": {},
   "source": [
    "Cantidad de restaurantes en Florida"
   ]
  },
  {
   "cell_type": "code",
   "execution_count": 180,
   "metadata": {},
   "outputs": [],
   "source": [
    "# Filtramos bussines que sean restaurantes\n",
    "df_Restaurant_yelp = df_business[df_business['categories'].astype(str).str.contains('Restaurant', case=False)]"
   ]
  },
  {
   "cell_type": "code",
   "execution_count": 181,
   "metadata": {},
   "outputs": [
    {
     "name": "stdout",
     "output_type": "stream",
     "text": [
      "9187 restaurantes existen en florida\n"
     ]
    }
   ],
   "source": [
    "# Filtramos el estado florida con la columna \"address\"\n",
    "df_business_florida = df_Restaurant_yelp[df_Restaurant_yelp[\"state\"]== \"FL\"]\n",
    "\n",
    "# Ciudades que no hay que filtrar\n",
    "Ciudades = ['Fort Lauderdale', 'Miami', 'Miami Gardens',\"Boca Raton\"]\n",
    "\n",
    "# Filtrar las filas que contienen los términos definidos\n",
    "filtrados = df_business_florida[df_business_florida['address'].str.contains('|'.join(Ciudades), na=False,case=False)]\n",
    "\n",
    "# Obtener las filas no filtradas del DataFrame original\n",
    "df_florida_yelp = df_business_florida[~df_business_florida.index.isin(filtrados.index)]\n",
    "\n",
    "cantidad = df_florida_yelp[\"business_id\"].count()\n",
    "print(f\"{cantidad} restaurantes existen en florida\")"
   ]
  },
  {
   "cell_type": "markdown",
   "metadata": {},
   "source": [
    "Restaurantes que tienen el servicio de delivery en florida"
   ]
  },
  {
   "cell_type": "code",
   "execution_count": 182,
   "metadata": {},
   "outputs": [
    {
     "data": {
      "text/html": [
       "<div>\n",
       "<style scoped>\n",
       "    .dataframe tbody tr th:only-of-type {\n",
       "        vertical-align: middle;\n",
       "    }\n",
       "\n",
       "    .dataframe tbody tr th {\n",
       "        vertical-align: top;\n",
       "    }\n",
       "\n",
       "    .dataframe thead th {\n",
       "        text-align: right;\n",
       "    }\n",
       "</style>\n",
       "<table border=\"1\" class=\"dataframe\">\n",
       "  <thead>\n",
       "    <tr style=\"text-align: right;\">\n",
       "      <th></th>\n",
       "      <th>Unnamed: 0</th>\n",
       "      <th>business_id</th>\n",
       "      <th>name</th>\n",
       "      <th>address</th>\n",
       "      <th>city</th>\n",
       "      <th>state</th>\n",
       "      <th>postal_code</th>\n",
       "      <th>latitude</th>\n",
       "      <th>longitude</th>\n",
       "      <th>stars</th>\n",
       "      <th>review_count</th>\n",
       "      <th>is_open</th>\n",
       "      <th>attributes</th>\n",
       "      <th>categories</th>\n",
       "      <th>hours</th>\n",
       "    </tr>\n",
       "  </thead>\n",
       "  <tbody>\n",
       "    <tr>\n",
       "      <th>14</th>\n",
       "      <td>14</td>\n",
       "      <td>0bPLkL0QhhPO5kt1_EXmNQ</td>\n",
       "      <td>Zio's Italian Market</td>\n",
       "      <td>2575 E Bay Dr</td>\n",
       "      <td>Largo</td>\n",
       "      <td>FL</td>\n",
       "      <td>33771</td>\n",
       "      <td>27.916116</td>\n",
       "      <td>-82.760461</td>\n",
       "      <td>4.5</td>\n",
       "      <td>100</td>\n",
       "      <td>0</td>\n",
       "      <td>{'OutdoorSeating': 'False', 'RestaurantsGoodFo...</td>\n",
       "      <td>Food, Delis, Italian, Bakeries, Restaurants</td>\n",
       "      <td>{'Monday': '10:0-18:0', 'Tuesday': '10:0-20:0'...</td>\n",
       "    </tr>\n",
       "    <tr>\n",
       "      <th>82</th>\n",
       "      <td>82</td>\n",
       "      <td>ppFCk9aQkM338Rgwpl2F5A</td>\n",
       "      <td>Wawa</td>\n",
       "      <td>3604 Chestnut St</td>\n",
       "      <td>Philadelphia</td>\n",
       "      <td>FL</td>\n",
       "      <td>19104</td>\n",
       "      <td>39.954573</td>\n",
       "      <td>-75.194894</td>\n",
       "      <td>3.0</td>\n",
       "      <td>56</td>\n",
       "      <td>1</td>\n",
       "      <td>{'Alcohol': \"u'none'\", 'RestaurantsGoodForGrou...</td>\n",
       "      <td>Restaurants, Automotive, Delis, Gas Stations, ...</td>\n",
       "      <td>{'Monday': '0:0-0:0', 'Tuesday': '0:0-0:0', 'W...</td>\n",
       "    </tr>\n",
       "    <tr>\n",
       "      <th>188</th>\n",
       "      <td>188</td>\n",
       "      <td>QjV4v7q_pt7tt3K1US7IHg</td>\n",
       "      <td>PDQ Temple Terrace</td>\n",
       "      <td>5112 E Fowler Ave</td>\n",
       "      <td>Tampa</td>\n",
       "      <td>FL</td>\n",
       "      <td>33617</td>\n",
       "      <td>28.054888</td>\n",
       "      <td>-82.399548</td>\n",
       "      <td>3.0</td>\n",
       "      <td>5</td>\n",
       "      <td>1</td>\n",
       "      <td>{'RestaurantsReservations': 'False', 'Business...</td>\n",
       "      <td>Fast Food, Sandwiches, Chicken Shop, Restaurants</td>\n",
       "      <td>{'Monday': '11:0-21:0', 'Tuesday': '11:0-21:0'...</td>\n",
       "    </tr>\n",
       "    <tr>\n",
       "      <th>191</th>\n",
       "      <td>191</td>\n",
       "      <td>59jkCUm4yHciKL1KW_1HJA</td>\n",
       "      <td>Roma Pizza &amp; Italian Eatery</td>\n",
       "      <td>1103 Main St</td>\n",
       "      <td>Warrington</td>\n",
       "      <td>FL</td>\n",
       "      <td>18976</td>\n",
       "      <td>40.229527</td>\n",
       "      <td>-75.131090</td>\n",
       "      <td>2.5</td>\n",
       "      <td>25</td>\n",
       "      <td>1</td>\n",
       "      <td>{'BikeParking': 'False', 'RestaurantsGoodForGr...</td>\n",
       "      <td>Pizza, Restaurants</td>\n",
       "      <td>{'Monday': '10:0-22:0', 'Tuesday': '10:0-22:0'...</td>\n",
       "    </tr>\n",
       "    <tr>\n",
       "      <th>200</th>\n",
       "      <td>200</td>\n",
       "      <td>vPcfJ3rm3NpdqVDod2WxLA</td>\n",
       "      <td>China Pearl</td>\n",
       "      <td>2E Summit Sq Shopping Ctr</td>\n",
       "      <td>Langhorne</td>\n",
       "      <td>FL</td>\n",
       "      <td>19047</td>\n",
       "      <td>40.217784</td>\n",
       "      <td>-74.926586</td>\n",
       "      <td>1.5</td>\n",
       "      <td>27</td>\n",
       "      <td>1</td>\n",
       "      <td>{'OutdoorSeating': 'False', 'RestaurantsDelive...</td>\n",
       "      <td>Japanese, Chinese, Restaurants, Thai</td>\n",
       "      <td>{'Monday': '11:0-22:0', 'Tuesday': '11:0-22:0'...</td>\n",
       "    </tr>\n",
       "    <tr>\n",
       "      <th>...</th>\n",
       "      <td>...</td>\n",
       "      <td>...</td>\n",
       "      <td>...</td>\n",
       "      <td>...</td>\n",
       "      <td>...</td>\n",
       "      <td>...</td>\n",
       "      <td>...</td>\n",
       "      <td>...</td>\n",
       "      <td>...</td>\n",
       "      <td>...</td>\n",
       "      <td>...</td>\n",
       "      <td>...</td>\n",
       "      <td>...</td>\n",
       "      <td>...</td>\n",
       "      <td>...</td>\n",
       "    </tr>\n",
       "    <tr>\n",
       "      <th>150146</th>\n",
       "      <td>150146</td>\n",
       "      <td>Cq3pmXsd5k4Z9zPlYkTvxQ</td>\n",
       "      <td>Hsu's Hunan Yu</td>\n",
       "      <td>11539 Gravois Rd</td>\n",
       "      <td>Saint Louis</td>\n",
       "      <td>FL</td>\n",
       "      <td>63126</td>\n",
       "      <td>38.537932</td>\n",
       "      <td>-90.378385</td>\n",
       "      <td>3.5</td>\n",
       "      <td>50</td>\n",
       "      <td>1</td>\n",
       "      <td>{'RestaurantsTakeOut': 'True', 'RestaurantsDel...</td>\n",
       "      <td>Chinese, Restaurants</td>\n",
       "      <td>{'Monday': '10:30-22:0', 'Tuesday': '10:30-22:...</td>\n",
       "    </tr>\n",
       "    <tr>\n",
       "      <th>150175</th>\n",
       "      <td>150175</td>\n",
       "      <td>3u5qUgOrgczTdCUhb0kKow</td>\n",
       "      <td>Verona Pizza</td>\n",
       "      <td>8910 W Chester Pike</td>\n",
       "      <td>Upper Darby</td>\n",
       "      <td>FL</td>\n",
       "      <td>19082</td>\n",
       "      <td>39.967261</td>\n",
       "      <td>-75.289625</td>\n",
       "      <td>3.0</td>\n",
       "      <td>66</td>\n",
       "      <td>1</td>\n",
       "      <td>{'Alcohol': \"u'beer_and_wine'\", 'DogsAllowed':...</td>\n",
       "      <td>Burgers, Salad, Pizza, Restaurants, Sandwiches</td>\n",
       "      <td>{'Monday': '0:0-0:0', 'Tuesday': '11:0-22:0', ...</td>\n",
       "    </tr>\n",
       "    <tr>\n",
       "      <th>150205</th>\n",
       "      <td>150205</td>\n",
       "      <td>Agh0Z_PACmbdEpLyjvuwZg</td>\n",
       "      <td>Chick-fil-A</td>\n",
       "      <td>6240 E Whitestown Pkwy</td>\n",
       "      <td>Whitestown</td>\n",
       "      <td>FL</td>\n",
       "      <td>46075</td>\n",
       "      <td>39.949502</td>\n",
       "      <td>-86.349949</td>\n",
       "      <td>2.5</td>\n",
       "      <td>32</td>\n",
       "      <td>1</td>\n",
       "      <td>{'BusinessParking': \"{'garage': False, 'street...</td>\n",
       "      <td>Chicken Shop, Caterers, Fast Food, Restaurants...</td>\n",
       "      <td>{'Monday': '0:0-0:0', 'Tuesday': '6:30-21:0', ...</td>\n",
       "    </tr>\n",
       "    <tr>\n",
       "      <th>150214</th>\n",
       "      <td>150214</td>\n",
       "      <td>2xxkaRy7rP5EUyjFt2J5kA</td>\n",
       "      <td>Nikka Ramen</td>\n",
       "      <td>5701 Calle Real</td>\n",
       "      <td>Goleta</td>\n",
       "      <td>FL</td>\n",
       "      <td>93117</td>\n",
       "      <td>34.440885</td>\n",
       "      <td>-119.823523</td>\n",
       "      <td>4.5</td>\n",
       "      <td>562</td>\n",
       "      <td>1</td>\n",
       "      <td>{'ByAppointmentOnly': 'False', 'Alcohol': \"u'b...</td>\n",
       "      <td>Restaurants, Japanese, Ramen</td>\n",
       "      <td>{'Tuesday': '17:0-21:30', 'Wednesday': '17:0-2...</td>\n",
       "    </tr>\n",
       "    <tr>\n",
       "      <th>150231</th>\n",
       "      <td>150231</td>\n",
       "      <td>C96ynw3G1KrqBOdafxbTKw</td>\n",
       "      <td>Subway</td>\n",
       "      <td>4882 Sun City Center Blvd</td>\n",
       "      <td>Sun City Center</td>\n",
       "      <td>FL</td>\n",
       "      <td>33573</td>\n",
       "      <td>27.714605</td>\n",
       "      <td>-82.335851</td>\n",
       "      <td>4.0</td>\n",
       "      <td>5</td>\n",
       "      <td>1</td>\n",
       "      <td>{'GoodForKids': 'True', 'RestaurantsTakeOut': ...</td>\n",
       "      <td>Restaurants, Fast Food, Sandwiches</td>\n",
       "      <td>{'Monday': '0:0-0:0', 'Tuesday': '9:0-21:0', '...</td>\n",
       "    </tr>\n",
       "  </tbody>\n",
       "</table>\n",
       "<p>4835 rows × 15 columns</p>\n",
       "</div>"
      ],
      "text/plain": [
       "        Unnamed: 0             business_id                         name  \\\n",
       "14              14  0bPLkL0QhhPO5kt1_EXmNQ         Zio's Italian Market   \n",
       "82              82  ppFCk9aQkM338Rgwpl2F5A                         Wawa   \n",
       "188            188  QjV4v7q_pt7tt3K1US7IHg           PDQ Temple Terrace   \n",
       "191            191  59jkCUm4yHciKL1KW_1HJA  Roma Pizza & Italian Eatery   \n",
       "200            200  vPcfJ3rm3NpdqVDod2WxLA                  China Pearl   \n",
       "...            ...                     ...                          ...   \n",
       "150146      150146  Cq3pmXsd5k4Z9zPlYkTvxQ               Hsu's Hunan Yu   \n",
       "150175      150175  3u5qUgOrgczTdCUhb0kKow                 Verona Pizza   \n",
       "150205      150205  Agh0Z_PACmbdEpLyjvuwZg                  Chick-fil-A   \n",
       "150214      150214  2xxkaRy7rP5EUyjFt2J5kA                  Nikka Ramen   \n",
       "150231      150231  C96ynw3G1KrqBOdafxbTKw                       Subway   \n",
       "\n",
       "                          address             city state postal_code  \\\n",
       "14                  2575 E Bay Dr            Largo    FL       33771   \n",
       "82               3604 Chestnut St     Philadelphia    FL       19104   \n",
       "188             5112 E Fowler Ave            Tampa    FL       33617   \n",
       "191                  1103 Main St       Warrington    FL       18976   \n",
       "200     2E Summit Sq Shopping Ctr        Langhorne    FL       19047   \n",
       "...                           ...              ...   ...         ...   \n",
       "150146           11539 Gravois Rd      Saint Louis    FL       63126   \n",
       "150175        8910 W Chester Pike      Upper Darby    FL       19082   \n",
       "150205     6240 E Whitestown Pkwy       Whitestown    FL       46075   \n",
       "150214            5701 Calle Real           Goleta    FL       93117   \n",
       "150231  4882 Sun City Center Blvd  Sun City Center    FL       33573   \n",
       "\n",
       "         latitude   longitude  stars  review_count  is_open  \\\n",
       "14      27.916116  -82.760461    4.5           100        0   \n",
       "82      39.954573  -75.194894    3.0            56        1   \n",
       "188     28.054888  -82.399548    3.0             5        1   \n",
       "191     40.229527  -75.131090    2.5            25        1   \n",
       "200     40.217784  -74.926586    1.5            27        1   \n",
       "...           ...         ...    ...           ...      ...   \n",
       "150146  38.537932  -90.378385    3.5            50        1   \n",
       "150175  39.967261  -75.289625    3.0            66        1   \n",
       "150205  39.949502  -86.349949    2.5            32        1   \n",
       "150214  34.440885 -119.823523    4.5           562        1   \n",
       "150231  27.714605  -82.335851    4.0             5        1   \n",
       "\n",
       "                                               attributes  \\\n",
       "14      {'OutdoorSeating': 'False', 'RestaurantsGoodFo...   \n",
       "82      {'Alcohol': \"u'none'\", 'RestaurantsGoodForGrou...   \n",
       "188     {'RestaurantsReservations': 'False', 'Business...   \n",
       "191     {'BikeParking': 'False', 'RestaurantsGoodForGr...   \n",
       "200     {'OutdoorSeating': 'False', 'RestaurantsDelive...   \n",
       "...                                                   ...   \n",
       "150146  {'RestaurantsTakeOut': 'True', 'RestaurantsDel...   \n",
       "150175  {'Alcohol': \"u'beer_and_wine'\", 'DogsAllowed':...   \n",
       "150205  {'BusinessParking': \"{'garage': False, 'street...   \n",
       "150214  {'ByAppointmentOnly': 'False', 'Alcohol': \"u'b...   \n",
       "150231  {'GoodForKids': 'True', 'RestaurantsTakeOut': ...   \n",
       "\n",
       "                                               categories  \\\n",
       "14            Food, Delis, Italian, Bakeries, Restaurants   \n",
       "82      Restaurants, Automotive, Delis, Gas Stations, ...   \n",
       "188      Fast Food, Sandwiches, Chicken Shop, Restaurants   \n",
       "191                                    Pizza, Restaurants   \n",
       "200                  Japanese, Chinese, Restaurants, Thai   \n",
       "...                                                   ...   \n",
       "150146                               Chinese, Restaurants   \n",
       "150175     Burgers, Salad, Pizza, Restaurants, Sandwiches   \n",
       "150205  Chicken Shop, Caterers, Fast Food, Restaurants...   \n",
       "150214                       Restaurants, Japanese, Ramen   \n",
       "150231                 Restaurants, Fast Food, Sandwiches   \n",
       "\n",
       "                                                    hours  \n",
       "14      {'Monday': '10:0-18:0', 'Tuesday': '10:0-20:0'...  \n",
       "82      {'Monday': '0:0-0:0', 'Tuesday': '0:0-0:0', 'W...  \n",
       "188     {'Monday': '11:0-21:0', 'Tuesday': '11:0-21:0'...  \n",
       "191     {'Monday': '10:0-22:0', 'Tuesday': '10:0-22:0'...  \n",
       "200     {'Monday': '11:0-22:0', 'Tuesday': '11:0-22:0'...  \n",
       "...                                                   ...  \n",
       "150146  {'Monday': '10:30-22:0', 'Tuesday': '10:30-22:...  \n",
       "150175  {'Monday': '0:0-0:0', 'Tuesday': '11:0-22:0', ...  \n",
       "150205  {'Monday': '0:0-0:0', 'Tuesday': '6:30-21:0', ...  \n",
       "150214  {'Tuesday': '17:0-21:30', 'Wednesday': '17:0-2...  \n",
       "150231  {'Monday': '0:0-0:0', 'Tuesday': '9:0-21:0', '...  \n",
       "\n",
       "[4835 rows x 15 columns]"
      ]
     },
     "execution_count": 182,
     "metadata": {},
     "output_type": "execute_result"
    }
   ],
   "source": [
    "# Rellenamos valores faltantes\n",
    "df_florida_yelp['attributes'].fillna('', inplace=True)\n",
    "# Observamos los restaurantes que tienen dleivery\n",
    "resultados = df_florida_yelp[df_florida_yelp['attributes'].str.contains(\"'RestaurantsDelivery': 'True'\", case=False)]\n",
    "resultados"
   ]
  },
  {
   "cell_type": "markdown",
   "metadata": {},
   "source": [
    "De los 9.187 restaurantes ubicados en Florida, se identificó que 4.835 ofrecen servicio de entrega a domicili"
   ]
  },
  {
   "cell_type": "code",
   "execution_count": 179,
   "metadata": {},
   "outputs": [],
   "source": [
    "df_business = pd.read_csv(\"df_business.csv\")"
   ]
  },
  {
   "cell_type": "markdown",
   "metadata": {},
   "source": [
    "## Archivo \"tip.json\""
   ]
  },
  {
   "cell_type": "code",
   "execution_count": null,
   "metadata": {},
   "outputs": [],
   "source": [
    "# Abrimos archivo \"tip.json\"\n",
    "datos = []\n",
    "with open('C:\\\\Users\\\\Giuliano\\\\Desktop\\\\Proyecto grupal\\\\yelp\\\\tip.json',\"r\",encoding=\"utf-8\") as archivo:\n",
    "    for linea in archivo:\n",
    "        objeto_json = json.loads(linea)\n",
    "        datos.append(objeto_json)\n",
    "\n",
    "df_tip = pd.DataFrame(datos)"
   ]
  },
  {
   "cell_type": "code",
   "execution_count": null,
   "metadata": {},
   "outputs": [],
   "source": [
    "df_tip.to_csv(\"df_tip.csv\")"
   ]
  },
  {
   "cell_type": "code",
   "execution_count": null,
   "metadata": {},
   "outputs": [
    {
     "data": {
      "text/html": [
       "<div>\n",
       "<style scoped>\n",
       "    .dataframe tbody tr th:only-of-type {\n",
       "        vertical-align: middle;\n",
       "    }\n",
       "\n",
       "    .dataframe tbody tr th {\n",
       "        vertical-align: top;\n",
       "    }\n",
       "\n",
       "    .dataframe thead th {\n",
       "        text-align: right;\n",
       "    }\n",
       "</style>\n",
       "<table border=\"1\" class=\"dataframe\">\n",
       "  <thead>\n",
       "    <tr style=\"text-align: right;\">\n",
       "      <th></th>\n",
       "      <th>Unnamed: 0</th>\n",
       "      <th>user_id</th>\n",
       "      <th>business_id</th>\n",
       "      <th>text</th>\n",
       "      <th>date</th>\n",
       "      <th>compliment_count</th>\n",
       "    </tr>\n",
       "  </thead>\n",
       "  <tbody>\n",
       "    <tr>\n",
       "      <th>0</th>\n",
       "      <td>0</td>\n",
       "      <td>AGNUgVwnZUey3gcPCJ76iw</td>\n",
       "      <td>3uLgwr0qeCNMjKenHJwPGQ</td>\n",
       "      <td>Avengers time with the ladies.</td>\n",
       "      <td>2012-05-18 02:17:21</td>\n",
       "      <td>0</td>\n",
       "    </tr>\n",
       "    <tr>\n",
       "      <th>1</th>\n",
       "      <td>1</td>\n",
       "      <td>NBN4MgHP9D3cw--SnauTkA</td>\n",
       "      <td>QoezRbYQncpRqyrLH6Iqjg</td>\n",
       "      <td>They have lots of good deserts and tasty cuban...</td>\n",
       "      <td>2013-02-05 18:35:10</td>\n",
       "      <td>0</td>\n",
       "    </tr>\n",
       "    <tr>\n",
       "      <th>2</th>\n",
       "      <td>2</td>\n",
       "      <td>-copOvldyKh1qr-vzkDEvw</td>\n",
       "      <td>MYoRNLb5chwjQe3c_k37Gg</td>\n",
       "      <td>It's open even when you think it isn't</td>\n",
       "      <td>2013-08-18 00:56:08</td>\n",
       "      <td>0</td>\n",
       "    </tr>\n",
       "    <tr>\n",
       "      <th>3</th>\n",
       "      <td>3</td>\n",
       "      <td>FjMQVZjSqY8syIO-53KFKw</td>\n",
       "      <td>hV-bABTK-glh5wj31ps_Jw</td>\n",
       "      <td>Very decent fried chicken</td>\n",
       "      <td>2017-06-27 23:05:38</td>\n",
       "      <td>0</td>\n",
       "    </tr>\n",
       "    <tr>\n",
       "      <th>4</th>\n",
       "      <td>4</td>\n",
       "      <td>ld0AperBXk1h6UbqmM80zw</td>\n",
       "      <td>_uN0OudeJ3Zl_tf6nxg5ww</td>\n",
       "      <td>Appetizers.. platter special for lunch</td>\n",
       "      <td>2012-10-06 19:43:09</td>\n",
       "      <td>0</td>\n",
       "    </tr>\n",
       "    <tr>\n",
       "      <th>...</th>\n",
       "      <td>...</td>\n",
       "      <td>...</td>\n",
       "      <td>...</td>\n",
       "      <td>...</td>\n",
       "      <td>...</td>\n",
       "      <td>...</td>\n",
       "    </tr>\n",
       "    <tr>\n",
       "      <th>908910</th>\n",
       "      <td>908910</td>\n",
       "      <td>eYodOTF8pkqKPzHkcxZs-Q</td>\n",
       "      <td>3lHTewuKFt5IImbXJoFeDQ</td>\n",
       "      <td>Disappointed in one of your managers.</td>\n",
       "      <td>2021-09-11 19:18:57</td>\n",
       "      <td>0</td>\n",
       "    </tr>\n",
       "    <tr>\n",
       "      <th>908911</th>\n",
       "      <td>908911</td>\n",
       "      <td>1uxtQAuJ2T5Xwa_wp7kUnA</td>\n",
       "      <td>OaGf0Dp56ARhQwIDT90w_g</td>\n",
       "      <td>Great food and service.</td>\n",
       "      <td>2021-10-30 11:54:36</td>\n",
       "      <td>0</td>\n",
       "    </tr>\n",
       "    <tr>\n",
       "      <th>908912</th>\n",
       "      <td>908912</td>\n",
       "      <td>v48Spe6WEpqehsF2xQADpg</td>\n",
       "      <td>hYnMeAO77RGyTtIzUSKYzQ</td>\n",
       "      <td>Love their Cubans!!</td>\n",
       "      <td>2021-11-05 13:18:56</td>\n",
       "      <td>0</td>\n",
       "    </tr>\n",
       "    <tr>\n",
       "      <th>908913</th>\n",
       "      <td>908913</td>\n",
       "      <td>ckqKGM2hl7I9Chp5IpAhkw</td>\n",
       "      <td>s2eyoTuJrcP7I_XyjdhUHQ</td>\n",
       "      <td>Great pizza great price</td>\n",
       "      <td>2021-11-20 16:11:44</td>\n",
       "      <td>0</td>\n",
       "    </tr>\n",
       "    <tr>\n",
       "      <th>908914</th>\n",
       "      <td>908914</td>\n",
       "      <td>4tF1CWdMxvvwpUIgGsDygA</td>\n",
       "      <td>_cb1Vg1NIWry8UA0jyuXnQ</td>\n",
       "      <td>Food is good value but a bit hot!</td>\n",
       "      <td>2021-12-07 22:30:00</td>\n",
       "      <td>0</td>\n",
       "    </tr>\n",
       "  </tbody>\n",
       "</table>\n",
       "<p>908915 rows × 6 columns</p>\n",
       "</div>"
      ],
      "text/plain": [
       "        Unnamed: 0                 user_id             business_id  \\\n",
       "0                0  AGNUgVwnZUey3gcPCJ76iw  3uLgwr0qeCNMjKenHJwPGQ   \n",
       "1                1  NBN4MgHP9D3cw--SnauTkA  QoezRbYQncpRqyrLH6Iqjg   \n",
       "2                2  -copOvldyKh1qr-vzkDEvw  MYoRNLb5chwjQe3c_k37Gg   \n",
       "3                3  FjMQVZjSqY8syIO-53KFKw  hV-bABTK-glh5wj31ps_Jw   \n",
       "4                4  ld0AperBXk1h6UbqmM80zw  _uN0OudeJ3Zl_tf6nxg5ww   \n",
       "...            ...                     ...                     ...   \n",
       "908910      908910  eYodOTF8pkqKPzHkcxZs-Q  3lHTewuKFt5IImbXJoFeDQ   \n",
       "908911      908911  1uxtQAuJ2T5Xwa_wp7kUnA  OaGf0Dp56ARhQwIDT90w_g   \n",
       "908912      908912  v48Spe6WEpqehsF2xQADpg  hYnMeAO77RGyTtIzUSKYzQ   \n",
       "908913      908913  ckqKGM2hl7I9Chp5IpAhkw  s2eyoTuJrcP7I_XyjdhUHQ   \n",
       "908914      908914  4tF1CWdMxvvwpUIgGsDygA  _cb1Vg1NIWry8UA0jyuXnQ   \n",
       "\n",
       "                                                     text  \\\n",
       "0                          Avengers time with the ladies.   \n",
       "1       They have lots of good deserts and tasty cuban...   \n",
       "2                  It's open even when you think it isn't   \n",
       "3                               Very decent fried chicken   \n",
       "4                  Appetizers.. platter special for lunch   \n",
       "...                                                   ...   \n",
       "908910              Disappointed in one of your managers.   \n",
       "908911                            Great food and service.   \n",
       "908912                                Love their Cubans!!   \n",
       "908913                            Great pizza great price   \n",
       "908914                  Food is good value but a bit hot!   \n",
       "\n",
       "                       date  compliment_count  \n",
       "0       2012-05-18 02:17:21                 0  \n",
       "1       2013-02-05 18:35:10                 0  \n",
       "2       2013-08-18 00:56:08                 0  \n",
       "3       2017-06-27 23:05:38                 0  \n",
       "4       2012-10-06 19:43:09                 0  \n",
       "...                     ...               ...  \n",
       "908910  2021-09-11 19:18:57                 0  \n",
       "908911  2021-10-30 11:54:36                 0  \n",
       "908912  2021-11-05 13:18:56                 0  \n",
       "908913  2021-11-20 16:11:44                 0  \n",
       "908914  2021-12-07 22:30:00                 0  \n",
       "\n",
       "[908915 rows x 6 columns]"
      ]
     },
     "execution_count": 46,
     "metadata": {},
     "output_type": "execute_result"
    }
   ],
   "source": [
    "df_tip = pd.read_csv(\"df_tip.csv\")\n",
    "df_tip"
   ]
  },
  {
   "cell_type": "markdown",
   "metadata": {},
   "source": [
    "## Abrimos archivo reviews.json"
   ]
  },
  {
   "cell_type": "code",
   "execution_count": 144,
   "metadata": {},
   "outputs": [
    {
     "data": {
      "text/html": [
       "<div>\n",
       "<style scoped>\n",
       "    .dataframe tbody tr th:only-of-type {\n",
       "        vertical-align: middle;\n",
       "    }\n",
       "\n",
       "    .dataframe tbody tr th {\n",
       "        vertical-align: top;\n",
       "    }\n",
       "\n",
       "    .dataframe thead th {\n",
       "        text-align: right;\n",
       "    }\n",
       "</style>\n",
       "<table border=\"1\" class=\"dataframe\">\n",
       "  <thead>\n",
       "    <tr style=\"text-align: right;\">\n",
       "      <th></th>\n",
       "      <th>review_id</th>\n",
       "      <th>user_id</th>\n",
       "      <th>business_id</th>\n",
       "      <th>stars</th>\n",
       "      <th>useful</th>\n",
       "      <th>funny</th>\n",
       "      <th>cool</th>\n",
       "      <th>text</th>\n",
       "      <th>date</th>\n",
       "    </tr>\n",
       "  </thead>\n",
       "  <tbody>\n",
       "    <tr>\n",
       "      <th>0</th>\n",
       "      <td>KU_O5udG6zpxOg-VcAEodg</td>\n",
       "      <td>mh_-eMZ6K5RLWhZyISBhwA</td>\n",
       "      <td>XQfwVwDr-v0ZS3_CbbE5Xw</td>\n",
       "      <td>3</td>\n",
       "      <td>0</td>\n",
       "      <td>0</td>\n",
       "      <td>0</td>\n",
       "      <td>If you decide to eat here, just be aware it is...</td>\n",
       "      <td>2018-07-07 22:09:11</td>\n",
       "    </tr>\n",
       "    <tr>\n",
       "      <th>1</th>\n",
       "      <td>BiTunyQ73aT9WBnpR9DZGw</td>\n",
       "      <td>OyoGAe7OKpv6SyGZT5g77Q</td>\n",
       "      <td>7ATYjTIgM3jUlt4UM3IypQ</td>\n",
       "      <td>5</td>\n",
       "      <td>1</td>\n",
       "      <td>0</td>\n",
       "      <td>1</td>\n",
       "      <td>I've taken a lot of spin classes over the year...</td>\n",
       "      <td>2012-01-03 15:28:18</td>\n",
       "    </tr>\n",
       "    <tr>\n",
       "      <th>2</th>\n",
       "      <td>saUsX_uimxRlCVr67Z4Jig</td>\n",
       "      <td>8g_iMtfSiwikVnbP2etR0A</td>\n",
       "      <td>YjUWPpI6HXG530lwP-fb2A</td>\n",
       "      <td>3</td>\n",
       "      <td>0</td>\n",
       "      <td>0</td>\n",
       "      <td>0</td>\n",
       "      <td>Family diner. Had the buffet. Eclectic assortm...</td>\n",
       "      <td>2014-02-05 20:30:30</td>\n",
       "    </tr>\n",
       "    <tr>\n",
       "      <th>3</th>\n",
       "      <td>AqPFMleE6RsU23_auESxiA</td>\n",
       "      <td>_7bHUi9Uuf5__HHc_Q8guQ</td>\n",
       "      <td>kxX2SOes4o-D3ZQBkiMRfA</td>\n",
       "      <td>5</td>\n",
       "      <td>1</td>\n",
       "      <td>0</td>\n",
       "      <td>1</td>\n",
       "      <td>Wow!  Yummy, different,  delicious.   Our favo...</td>\n",
       "      <td>2015-01-04 00:01:03</td>\n",
       "    </tr>\n",
       "    <tr>\n",
       "      <th>4</th>\n",
       "      <td>Sx8TMOWLNuJBWer-0pcmoA</td>\n",
       "      <td>bcjbaE6dDog4jkNY91ncLQ</td>\n",
       "      <td>e4Vwtrqf-wpJfwesgvdgxQ</td>\n",
       "      <td>4</td>\n",
       "      <td>1</td>\n",
       "      <td>0</td>\n",
       "      <td>1</td>\n",
       "      <td>Cute interior and owner (?) gave us tour of up...</td>\n",
       "      <td>2017-01-14 20:54:15</td>\n",
       "    </tr>\n",
       "    <tr>\n",
       "      <th>...</th>\n",
       "      <td>...</td>\n",
       "      <td>...</td>\n",
       "      <td>...</td>\n",
       "      <td>...</td>\n",
       "      <td>...</td>\n",
       "      <td>...</td>\n",
       "      <td>...</td>\n",
       "      <td>...</td>\n",
       "      <td>...</td>\n",
       "    </tr>\n",
       "    <tr>\n",
       "      <th>499995</th>\n",
       "      <td>q4Z6NCR1IMRdpPorTD89Tg</td>\n",
       "      <td>tCPzvPwsd_DwBx6whsDlLQ</td>\n",
       "      <td>-QwHN9KoluPcA0YFllwFYQ</td>\n",
       "      <td>5</td>\n",
       "      <td>0</td>\n",
       "      <td>0</td>\n",
       "      <td>0</td>\n",
       "      <td>We won the Playoff game last night and is sche...</td>\n",
       "      <td>2021-06-30 16:14:03</td>\n",
       "    </tr>\n",
       "    <tr>\n",
       "      <th>499996</th>\n",
       "      <td>KTg0i04SbVWGWHHJmGOI_A</td>\n",
       "      <td>rj0uSTXu1rPVgAfOMHYltQ</td>\n",
       "      <td>t_v2TyjeqaRkrfZKudY9cA</td>\n",
       "      <td>5</td>\n",
       "      <td>0</td>\n",
       "      <td>0</td>\n",
       "      <td>0</td>\n",
       "      <td>We have been a resident almost 4 years at Manz...</td>\n",
       "      <td>2021-03-24 20:21:27</td>\n",
       "    </tr>\n",
       "    <tr>\n",
       "      <th>499997</th>\n",
       "      <td>ZuMNAPcArFtaGufe-nwGOA</td>\n",
       "      <td>MVqzYt-E7y1Mdw9F_7nLjw</td>\n",
       "      <td>3XirYkP9PJvVXIEDPNNXLA</td>\n",
       "      <td>4</td>\n",
       "      <td>0</td>\n",
       "      <td>0</td>\n",
       "      <td>0</td>\n",
       "      <td>This place is hyped as one of the best places ...</td>\n",
       "      <td>2021-07-03 04:51:07</td>\n",
       "    </tr>\n",
       "    <tr>\n",
       "      <th>499998</th>\n",
       "      <td>Lohri9uZyvoNnH5z_NT6DA</td>\n",
       "      <td>vn777Y2vCynYYUYJjNYdYg</td>\n",
       "      <td>gfPDLZimZu1NtBIDbeXetg</td>\n",
       "      <td>2</td>\n",
       "      <td>1</td>\n",
       "      <td>0</td>\n",
       "      <td>0</td>\n",
       "      <td>Saw the reviews so thought I'd try this place....</td>\n",
       "      <td>2019-04-16 23:28:41</td>\n",
       "    </tr>\n",
       "    <tr>\n",
       "      <th>499999</th>\n",
       "      <td>9BaxxfWBmIsSPlx-kvRBDw</td>\n",
       "      <td>_49VYA-2qlNOOkE8Hc7Z_A</td>\n",
       "      <td>sWCCxY1-9B1FGlSVeQvnHg</td>\n",
       "      <td>5</td>\n",
       "      <td>0</td>\n",
       "      <td>0</td>\n",
       "      <td>0</td>\n",
       "      <td>Yummy!  I ordered Uber Eats and wasn't sure ho...</td>\n",
       "      <td>2021-07-06 01:58:08</td>\n",
       "    </tr>\n",
       "  </tbody>\n",
       "</table>\n",
       "<p>500000 rows × 9 columns</p>\n",
       "</div>"
      ],
      "text/plain": [
       "                     review_id                 user_id  \\\n",
       "0       KU_O5udG6zpxOg-VcAEodg  mh_-eMZ6K5RLWhZyISBhwA   \n",
       "1       BiTunyQ73aT9WBnpR9DZGw  OyoGAe7OKpv6SyGZT5g77Q   \n",
       "2       saUsX_uimxRlCVr67Z4Jig  8g_iMtfSiwikVnbP2etR0A   \n",
       "3       AqPFMleE6RsU23_auESxiA  _7bHUi9Uuf5__HHc_Q8guQ   \n",
       "4       Sx8TMOWLNuJBWer-0pcmoA  bcjbaE6dDog4jkNY91ncLQ   \n",
       "...                        ...                     ...   \n",
       "499995  q4Z6NCR1IMRdpPorTD89Tg  tCPzvPwsd_DwBx6whsDlLQ   \n",
       "499996  KTg0i04SbVWGWHHJmGOI_A  rj0uSTXu1rPVgAfOMHYltQ   \n",
       "499997  ZuMNAPcArFtaGufe-nwGOA  MVqzYt-E7y1Mdw9F_7nLjw   \n",
       "499998  Lohri9uZyvoNnH5z_NT6DA  vn777Y2vCynYYUYJjNYdYg   \n",
       "499999  9BaxxfWBmIsSPlx-kvRBDw  _49VYA-2qlNOOkE8Hc7Z_A   \n",
       "\n",
       "                   business_id  stars  useful  funny  cool  \\\n",
       "0       XQfwVwDr-v0ZS3_CbbE5Xw      3       0      0     0   \n",
       "1       7ATYjTIgM3jUlt4UM3IypQ      5       1      0     1   \n",
       "2       YjUWPpI6HXG530lwP-fb2A      3       0      0     0   \n",
       "3       kxX2SOes4o-D3ZQBkiMRfA      5       1      0     1   \n",
       "4       e4Vwtrqf-wpJfwesgvdgxQ      4       1      0     1   \n",
       "...                        ...    ...     ...    ...   ...   \n",
       "499995  -QwHN9KoluPcA0YFllwFYQ      5       0      0     0   \n",
       "499996  t_v2TyjeqaRkrfZKudY9cA      5       0      0     0   \n",
       "499997  3XirYkP9PJvVXIEDPNNXLA      4       0      0     0   \n",
       "499998  gfPDLZimZu1NtBIDbeXetg      2       1      0     0   \n",
       "499999  sWCCxY1-9B1FGlSVeQvnHg      5       0      0     0   \n",
       "\n",
       "                                                     text                date  \n",
       "0       If you decide to eat here, just be aware it is... 2018-07-07 22:09:11  \n",
       "1       I've taken a lot of spin classes over the year... 2012-01-03 15:28:18  \n",
       "2       Family diner. Had the buffet. Eclectic assortm... 2014-02-05 20:30:30  \n",
       "3       Wow!  Yummy, different,  delicious.   Our favo... 2015-01-04 00:01:03  \n",
       "4       Cute interior and owner (?) gave us tour of up... 2017-01-14 20:54:15  \n",
       "...                                                   ...                 ...  \n",
       "499995  We won the Playoff game last night and is sche... 2021-06-30 16:14:03  \n",
       "499996  We have been a resident almost 4 years at Manz... 2021-03-24 20:21:27  \n",
       "499997  This place is hyped as one of the best places ... 2021-07-03 04:51:07  \n",
       "499998  Saw the reviews so thought I'd try this place.... 2019-04-16 23:28:41  \n",
       "499999  Yummy!  I ordered Uber Eats and wasn't sure ho... 2021-07-06 01:58:08  \n",
       "\n",
       "[500000 rows x 9 columns]"
      ]
     },
     "execution_count": 144,
     "metadata": {},
     "output_type": "execute_result"
    }
   ],
   "source": [
    "import pandas as pd\n",
    "\n",
    "# Lee las primeras 100 filas del archivo\n",
    "primeros_100_registros = pd.read_json('C:\\\\Users\\\\Giuliano\\\\Desktop\\\\Proyecto grupal\\\\yelp\\\\review.json',lines=True, nrows=500000)\n",
    "\n",
    "primeros_100_registros\n"
   ]
  },
  {
   "cell_type": "code",
   "execution_count": 145,
   "metadata": {},
   "outputs": [
    {
     "data": {
      "text/plain": [
       "36000128"
      ]
     },
     "execution_count": 145,
     "metadata": {},
     "output_type": "execute_result"
    }
   ],
   "source": [
    "memoria_utilizada = primeros_100_registros.memory_usage().sum()\n",
    "memoria_utilizada"
   ]
  },
  {
   "cell_type": "code",
   "execution_count": 146,
   "metadata": {},
   "outputs": [],
   "source": [
    "primeros_100_registros.to_csv(\"df_reviews.csv\")"
   ]
  },
  {
   "cell_type": "markdown",
   "metadata": {},
   "source": [
    "## Abrimos archivo \"checkin.json\""
   ]
  },
  {
   "cell_type": "code",
   "execution_count": null,
   "metadata": {},
   "outputs": [],
   "source": [
    "\n",
    "datos = []\n",
    "with open('C:\\\\Users\\\\Giuliano\\\\Desktop\\\\Proyecto grupal\\\\yelp\\\\checkin.json',\"r\") as archivo:\n",
    "    for linea in archivo:\n",
    "        objetos = json.loads(linea)\n",
    "        datos.append(objetos)\n",
    "\n",
    "df_checkin = pd.DataFrame(datos)"
   ]
  },
  {
   "cell_type": "code",
   "execution_count": null,
   "metadata": {},
   "outputs": [
    {
     "data": {
      "text/html": [
       "<div>\n",
       "<style scoped>\n",
       "    .dataframe tbody tr th:only-of-type {\n",
       "        vertical-align: middle;\n",
       "    }\n",
       "\n",
       "    .dataframe tbody tr th {\n",
       "        vertical-align: top;\n",
       "    }\n",
       "\n",
       "    .dataframe thead th {\n",
       "        text-align: right;\n",
       "    }\n",
       "</style>\n",
       "<table border=\"1\" class=\"dataframe\">\n",
       "  <thead>\n",
       "    <tr style=\"text-align: right;\">\n",
       "      <th></th>\n",
       "      <th>business_id</th>\n",
       "      <th>date</th>\n",
       "    </tr>\n",
       "  </thead>\n",
       "  <tbody>\n",
       "    <tr>\n",
       "      <th>0</th>\n",
       "      <td>---kPU91CF4Lq2-WlRu9Lw</td>\n",
       "      <td>2020-03-13 21:10:56, 2020-06-02 22:18:06, 2020...</td>\n",
       "    </tr>\n",
       "    <tr>\n",
       "      <th>1</th>\n",
       "      <td>--0iUa4sNDFiZFrAdIWhZQ</td>\n",
       "      <td>2010-09-13 21:43:09, 2011-05-04 23:08:15, 2011...</td>\n",
       "    </tr>\n",
       "    <tr>\n",
       "      <th>2</th>\n",
       "      <td>--30_8IhuyMHbSOcNWd6DQ</td>\n",
       "      <td>2013-06-14 23:29:17, 2014-08-13 23:20:22</td>\n",
       "    </tr>\n",
       "    <tr>\n",
       "      <th>3</th>\n",
       "      <td>--7PUidqRWpRSpXebiyxTg</td>\n",
       "      <td>2011-02-15 17:12:00, 2011-07-28 02:46:10, 2012...</td>\n",
       "    </tr>\n",
       "    <tr>\n",
       "      <th>4</th>\n",
       "      <td>--7jw19RH9JKXgFohspgQw</td>\n",
       "      <td>2014-04-21 20:42:11, 2014-04-28 21:04:46, 2014...</td>\n",
       "    </tr>\n",
       "    <tr>\n",
       "      <th>...</th>\n",
       "      <td>...</td>\n",
       "      <td>...</td>\n",
       "    </tr>\n",
       "    <tr>\n",
       "      <th>131925</th>\n",
       "      <td>zznJox6-nmXlGYNWgTDwQQ</td>\n",
       "      <td>2013-03-23 16:22:47, 2013-04-07 02:03:12, 2013...</td>\n",
       "    </tr>\n",
       "    <tr>\n",
       "      <th>131926</th>\n",
       "      <td>zznZqH9CiAznbkV6fXyHWA</td>\n",
       "      <td>2021-06-12 01:16:12</td>\n",
       "    </tr>\n",
       "    <tr>\n",
       "      <th>131927</th>\n",
       "      <td>zzu6_r3DxBJuXcjnOYVdTw</td>\n",
       "      <td>2011-05-24 01:35:13, 2012-01-01 23:44:33, 2012...</td>\n",
       "    </tr>\n",
       "    <tr>\n",
       "      <th>131928</th>\n",
       "      <td>zzw66H6hVjXQEt0Js3Mo4A</td>\n",
       "      <td>2016-12-03 23:33:26, 2018-12-02 19:08:45</td>\n",
       "    </tr>\n",
       "    <tr>\n",
       "      <th>131929</th>\n",
       "      <td>zzyx5x0Z7xXWWvWnZFuxlQ</td>\n",
       "      <td>2015-01-06 17:51:53</td>\n",
       "    </tr>\n",
       "  </tbody>\n",
       "</table>\n",
       "<p>131930 rows × 2 columns</p>\n",
       "</div>"
      ],
      "text/plain": [
       "                   business_id  \\\n",
       "0       ---kPU91CF4Lq2-WlRu9Lw   \n",
       "1       --0iUa4sNDFiZFrAdIWhZQ   \n",
       "2       --30_8IhuyMHbSOcNWd6DQ   \n",
       "3       --7PUidqRWpRSpXebiyxTg   \n",
       "4       --7jw19RH9JKXgFohspgQw   \n",
       "...                        ...   \n",
       "131925  zznJox6-nmXlGYNWgTDwQQ   \n",
       "131926  zznZqH9CiAznbkV6fXyHWA   \n",
       "131927  zzu6_r3DxBJuXcjnOYVdTw   \n",
       "131928  zzw66H6hVjXQEt0Js3Mo4A   \n",
       "131929  zzyx5x0Z7xXWWvWnZFuxlQ   \n",
       "\n",
       "                                                     date  \n",
       "0       2020-03-13 21:10:56, 2020-06-02 22:18:06, 2020...  \n",
       "1       2010-09-13 21:43:09, 2011-05-04 23:08:15, 2011...  \n",
       "2                2013-06-14 23:29:17, 2014-08-13 23:20:22  \n",
       "3       2011-02-15 17:12:00, 2011-07-28 02:46:10, 2012...  \n",
       "4       2014-04-21 20:42:11, 2014-04-28 21:04:46, 2014...  \n",
       "...                                                   ...  \n",
       "131925  2013-03-23 16:22:47, 2013-04-07 02:03:12, 2013...  \n",
       "131926                                2021-06-12 01:16:12  \n",
       "131927  2011-05-24 01:35:13, 2012-01-01 23:44:33, 2012...  \n",
       "131928           2016-12-03 23:33:26, 2018-12-02 19:08:45  \n",
       "131929                                2015-01-06 17:51:53  \n",
       "\n",
       "[131930 rows x 2 columns]"
      ]
     },
     "execution_count": 12,
     "metadata": {},
     "output_type": "execute_result"
    }
   ],
   "source": [
    "df_checkin"
   ]
  },
  {
   "cell_type": "code",
   "execution_count": null,
   "metadata": {},
   "outputs": [
    {
     "data": {
      "text/html": [
       "<div>\n",
       "<style scoped>\n",
       "    .dataframe tbody tr th:only-of-type {\n",
       "        vertical-align: middle;\n",
       "    }\n",
       "\n",
       "    .dataframe tbody tr th {\n",
       "        vertical-align: top;\n",
       "    }\n",
       "\n",
       "    .dataframe thead th {\n",
       "        text-align: right;\n",
       "    }\n",
       "</style>\n",
       "<table border=\"1\" class=\"dataframe\">\n",
       "  <thead>\n",
       "    <tr style=\"text-align: right;\">\n",
       "      <th></th>\n",
       "      <th>business_id</th>\n",
       "      <th>date</th>\n",
       "    </tr>\n",
       "  </thead>\n",
       "  <tbody>\n",
       "    <tr>\n",
       "      <th>count</th>\n",
       "      <td>131930</td>\n",
       "      <td>131930</td>\n",
       "    </tr>\n",
       "    <tr>\n",
       "      <th>unique</th>\n",
       "      <td>131930</td>\n",
       "      <td>131930</td>\n",
       "    </tr>\n",
       "    <tr>\n",
       "      <th>top</th>\n",
       "      <td>---kPU91CF4Lq2-WlRu9Lw</td>\n",
       "      <td>2020-03-13 21:10:56, 2020-06-02 22:18:06, 2020...</td>\n",
       "    </tr>\n",
       "    <tr>\n",
       "      <th>freq</th>\n",
       "      <td>1</td>\n",
       "      <td>1</td>\n",
       "    </tr>\n",
       "  </tbody>\n",
       "</table>\n",
       "</div>"
      ],
      "text/plain": [
       "                   business_id  \\\n",
       "count                   131930   \n",
       "unique                  131930   \n",
       "top     ---kPU91CF4Lq2-WlRu9Lw   \n",
       "freq                         1   \n",
       "\n",
       "                                                     date  \n",
       "count                                              131930  \n",
       "unique                                             131930  \n",
       "top     2020-03-13 21:10:56, 2020-06-02 22:18:06, 2020...  \n",
       "freq                                                    1  "
      ]
     },
     "execution_count": 11,
     "metadata": {},
     "output_type": "execute_result"
    }
   ],
   "source": [
    "df_checkin.describe()"
   ]
  },
  {
   "cell_type": "markdown",
   "metadata": {},
   "source": [
    "## Abrimos archivo user.parquet"
   ]
  },
  {
   "cell_type": "code",
   "execution_count": 56,
   "metadata": {},
   "outputs": [],
   "source": [
    "archivo = \"C:\\\\Users\\\\Giuliano\\\\Desktop\\\\Proyecto grupal\\\\yelp\\\\user.parquet\"\n",
    "df_User_yelp = pd.read_parquet(archivo)"
   ]
  },
  {
   "cell_type": "markdown",
   "metadata": {},
   "source": [
    "# DATASET GOOGLE MAPS"
   ]
  },
  {
   "cell_type": "markdown",
   "metadata": {},
   "source": [
    "## Sitios"
   ]
  },
  {
   "cell_type": "markdown",
   "metadata": {},
   "source": [
    "Abrimos archivo \"1.json\""
   ]
  },
  {
   "cell_type": "code",
   "execution_count": 173,
   "metadata": {},
   "outputs": [],
   "source": [
    "df_Restaurant = pd.read_csv(\"C:\\\\Users\\\\Giuliano\\\\Desktop\\\\Proyecto grupal\\\\df_Restaurant.csv\")"
   ]
  },
  {
   "cell_type": "code",
   "execution_count": 1,
   "metadata": {},
   "outputs": [
    {
     "ename": "NameError",
     "evalue": "name 'json' is not defined",
     "output_type": "error",
     "traceback": [
      "\u001b[1;31m---------------------------------------------------------------------------\u001b[0m",
      "\u001b[1;31mNameError\u001b[0m                                 Traceback (most recent call last)",
      "Cell \u001b[1;32mIn[1], line 6\u001b[0m\n\u001b[0;32m      4\u001b[0m \u001b[38;5;28;01mwith\u001b[39;00m \u001b[38;5;28mopen\u001b[39m(archivo,\u001b[38;5;124m\"\u001b[39m\u001b[38;5;124mr\u001b[39m\u001b[38;5;124m\"\u001b[39m) \u001b[38;5;28;01mas\u001b[39;00m archivo:\n\u001b[0;32m      5\u001b[0m     \u001b[38;5;28;01mfor\u001b[39;00m linea \u001b[38;5;129;01min\u001b[39;00m archivo:\n\u001b[1;32m----> 6\u001b[0m         objetos \u001b[38;5;241m=\u001b[39m \u001b[43mjson\u001b[49m\u001b[38;5;241m.\u001b[39mloads(linea)\n\u001b[0;32m      7\u001b[0m         datos\u001b[38;5;241m.\u001b[39mappend(objetos)\n\u001b[0;32m      9\u001b[0m df_sitios_1 \u001b[38;5;241m=\u001b[39m pd\u001b[38;5;241m.\u001b[39mDataFrame(datos)\n",
      "\u001b[1;31mNameError\u001b[0m: name 'json' is not defined"
     ]
    }
   ],
   "source": [
    "archivo = \"C:\\\\Users\\\\Giuliano\\\\Desktop\\\\Proyecto grupal\\\\Google maps\\\\metadata-sitios\\\\1.json\"\n",
    "\n",
    "datos = []\n",
    "with open(archivo,\"r\") as archivo:\n",
    "    for linea in archivo:\n",
    "        objetos = json.loads(linea)\n",
    "        datos.append(objetos)\n",
    "\n",
    "df_sitios_1 = pd.DataFrame(datos)"
   ]
  },
  {
   "cell_type": "markdown",
   "metadata": {},
   "source": [
    "Abrimos archivo \"2.json\""
   ]
  },
  {
   "cell_type": "code",
   "execution_count": null,
   "metadata": {},
   "outputs": [],
   "source": [
    "archivo = \"C:\\\\Users\\\\Giuliano\\\\Desktop\\\\Proyecto grupal\\\\Google maps\\\\metadata-sitios\\\\2.json\"\n",
    "\n",
    "datos = []\n",
    "with open(archivo,\"r\") as archivo:\n",
    "    for linea in archivo:\n",
    "        objetos = json.loads(linea)\n",
    "        datos.append(objetos)\n",
    "\n",
    "df_sitios_2 = pd.DataFrame(datos)"
   ]
  },
  {
   "cell_type": "markdown",
   "metadata": {},
   "source": [
    "\n",
    "Abrimos archivo \"3.json\""
   ]
  },
  {
   "cell_type": "code",
   "execution_count": null,
   "metadata": {},
   "outputs": [],
   "source": [
    "archivo = \"C:\\\\Users\\\\Giuliano\\\\Desktop\\\\Proyecto grupal\\\\Google maps\\\\metadata-sitios\\\\3.json\"\n",
    "\n",
    "datos = []\n",
    "with open(archivo,\"r\") as archivo:\n",
    "    for linea in archivo:\n",
    "        objetos = json.loads(linea)\n",
    "        datos.append(objetos)\n",
    "\n",
    "df_sitios_3 = pd.DataFrame(datos)"
   ]
  },
  {
   "cell_type": "markdown",
   "metadata": {},
   "source": [
    "Abrimos archivo \"4.json\""
   ]
  },
  {
   "cell_type": "code",
   "execution_count": 6,
   "metadata": {},
   "outputs": [],
   "source": [
    "archivo = \"C:\\\\Users\\\\Giuliano\\\\Desktop\\\\Proyecto grupal\\\\Google maps\\\\metadata-sitios\\\\4.json\"\n",
    "\n",
    "import json\n",
    "import pandas as pd\n",
    "datos = []\n",
    "with open(archivo,\"r\") as archivo:\n",
    "    for linea in archivo:\n",
    "        objetos = json.loads(linea)\n",
    "        datos.append(objetos)\n",
    "\n",
    "df_sitios_4 = pd.DataFrame(datos)"
   ]
  },
  {
   "cell_type": "markdown",
   "metadata": {},
   "source": [
    "Abrimos archivo \"5.json\""
   ]
  },
  {
   "cell_type": "code",
   "execution_count": 8,
   "metadata": {},
   "outputs": [],
   "source": [
    "archivo = \"C:\\\\Users\\\\Giuliano\\\\Desktop\\\\Proyecto grupal\\\\Google maps\\\\metadata-sitios\\\\5.json\"\n",
    "datos = []\n",
    "\n",
    "with open(archivo, \"r\") as file:\n",
    "    for linea in file:\n",
    "        try:\n",
    "            data = json.loads(linea)\n",
    "            datos.append(data)\n",
    "        except json.JSONDecodeError as e:\n",
    "            print(f\"Error decoding JSON: {e}\")\n",
    "\n",
    "df_sitios_5 = pd.DataFrame(datos)"
   ]
  },
  {
   "cell_type": "markdown",
   "metadata": {},
   "source": [
    "Abrimos archivo \"6.json\""
   ]
  },
  {
   "cell_type": "code",
   "execution_count": null,
   "metadata": {},
   "outputs": [],
   "source": [
    "archivo = \"C:\\\\Users\\\\Giuliano\\\\Desktop\\\\Proyecto grupal\\\\Google maps\\\\metadata-sitios\\\\6.json\"\n",
    "\n",
    "import json\n",
    "import pandas as pd\n",
    "datos = []\n",
    "with open(archivo,\"r\") as archivo:\n",
    "    for linea in archivo:\n",
    "        objetos = json.loads(linea)\n",
    "        datos.append(objetos)\n",
    "\n",
    "df_sitios_6 = pd.DataFrame(datos)"
   ]
  },
  {
   "cell_type": "markdown",
   "metadata": {},
   "source": [
    "Abrimos archivo \"7.json\""
   ]
  },
  {
   "cell_type": "code",
   "execution_count": null,
   "metadata": {},
   "outputs": [],
   "source": [
    "archivo = \"C:\\\\Users\\\\Giuliano\\\\Desktop\\\\Proyecto grupal\\\\Google maps\\\\metadata-sitios\\\\7.json\"\n",
    "datos = []\n",
    "\n",
    "with open(archivo, \"r\") as file:\n",
    "    for linea in file:\n",
    "        try:\n",
    "            data = json.loads(linea)\n",
    "            datos.append(data)\n",
    "        except json.JSONDecodeError as e:\n",
    "            print(f\"Error decoding JSON: {e}\")\n",
    "\n",
    "df_sitios_7 = pd.DataFrame(datos)"
   ]
  },
  {
   "cell_type": "markdown",
   "metadata": {},
   "source": [
    "Abrimos archivo \"8.json\""
   ]
  },
  {
   "cell_type": "code",
   "execution_count": null,
   "metadata": {},
   "outputs": [],
   "source": [
    "archivo = \"C:\\\\Users\\\\Giuliano\\\\Desktop\\\\Proyecto grupal\\\\Google maps\\\\metadata-sitios\\\\8.json\"\n",
    "datos = []\n",
    "\n",
    "with open(archivo, \"r\") as file:\n",
    "    for linea in file:\n",
    "        try:\n",
    "            data = json.loads(linea)\n",
    "            datos.append(data)\n",
    "        except json.JSONDecodeError as e:\n",
    "            print(f\"Error decoding JSON: {e}\")\n",
    "\n",
    "df_sitios_8  = pd.DataFrame(datos)"
   ]
  },
  {
   "cell_type": "markdown",
   "metadata": {},
   "source": [
    "Abrimos archivo \"9.json\""
   ]
  },
  {
   "cell_type": "code",
   "execution_count": null,
   "metadata": {},
   "outputs": [],
   "source": [
    "archivo = \"C:\\\\Users\\\\Giuliano\\\\Desktop\\\\Proyecto grupal\\\\Google maps\\\\metadata-sitios\\\\9.json\"\n",
    "datos = []\n",
    "\n",
    "with open(archivo, \"r\") as file:\n",
    "    for linea in file:\n",
    "        try:\n",
    "            data = json.loads(linea)\n",
    "            datos.append(data)\n",
    "        except json.JSONDecodeError as e:\n",
    "            print(f\"Error decoding JSON: {e}\")\n",
    "\n",
    "df_sitios_9  = pd.DataFrame(datos)"
   ]
  },
  {
   "cell_type": "markdown",
   "metadata": {},
   "source": [
    "Abrimos archivo \"10.json\""
   ]
  },
  {
   "cell_type": "code",
   "execution_count": null,
   "metadata": {},
   "outputs": [],
   "source": [
    "archivo = \"C:\\\\Users\\\\Giuliano\\\\Desktop\\\\Proyecto grupal\\\\Google maps\\\\metadata-sitios\\\\10.json\"\n",
    "datos = []\n",
    "\n",
    "with open(archivo, \"r\") as file:\n",
    "    for linea in file:\n",
    "        try:\n",
    "            data = json.loads(linea)\n",
    "            datos.append(data)\n",
    "        except json.JSONDecodeError as e:\n",
    "            print(f\"Error decoding JSON: {e}\")\n",
    "\n",
    "df_sitios_10  = pd.DataFrame(datos)"
   ]
  },
  {
   "cell_type": "markdown",
   "metadata": {},
   "source": [
    "Abrimos archivo \"11.json\""
   ]
  },
  {
   "cell_type": "code",
   "execution_count": null,
   "metadata": {},
   "outputs": [],
   "source": [
    "archivo = \"C:\\\\Users\\\\Giuliano\\\\Desktop\\\\Proyecto grupal\\\\Google maps\\\\metadata-sitios\\\\11.json\"\n",
    "datos = []\n",
    "\n",
    "with open(archivo, \"r\") as file:\n",
    "    for linea in file:\n",
    "        try:\n",
    "            data = json.loads(linea)\n",
    "            datos.append(data)\n",
    "        except json.JSONDecodeError as e:\n",
    "            print(f\"Error decoding JSON: {e}\")\n",
    "\n",
    "df_sitios_11  = pd.DataFrame(datos)"
   ]
  },
  {
   "cell_type": "markdown",
   "metadata": {},
   "source": [
    "Concatenamos los dataframe"
   ]
  },
  {
   "cell_type": "code",
   "execution_count": null,
   "metadata": {},
   "outputs": [],
   "source": [
    "sitios = [df_sitios_1, df_sitios_2, df_sitios_3, df_sitios_4, df_sitios_5, df_sitios_6, df_sitios_7, df_sitios_8,df_sitios_9,df_sitios_10,df_sitios_11]\n",
    "df_sitios = pd.concat(sitios, ignore_index=True)"
   ]
  },
  {
   "cell_type": "code",
   "execution_count": null,
   "metadata": {},
   "outputs": [],
   "source": [
    "# Renombramos los nulos de la columna \"category\"\n",
    "df_sitios['category'] = df_sitios['category'].fillna('')\n",
    "\n",
    "# Filtramos bussines que sean restaurantes\n",
    "df_Restaurant = df_sitios[df_sitios['category'].astype(str).str.contains('Restaurant', case=False)]"
   ]
  },
  {
   "cell_type": "markdown",
   "metadata": {},
   "source": [
    "Cantidad de restaurantes en Florida exceptuando Miami, Fort Laureald , Miami Gardens"
   ]
  },
  {
   "cell_type": "code",
   "execution_count": 174,
   "metadata": {},
   "outputs": [
    {
     "data": {
      "text/plain": [
       "Unnamed: 0          5031\n",
       "name                5031\n",
       "address             5031\n",
       "gmap_id             5031\n",
       "description         1382\n",
       "latitude            5031\n",
       "longitude           5031\n",
       "category            5031\n",
       "avg_rating          5031\n",
       "num_of_reviews      5031\n",
       "price               1680\n",
       "hours               4300\n",
       "MISC                5004\n",
       "state               4318\n",
       "relative_results    3523\n",
       "url                 5031\n",
       "dtype: int64"
      ]
     },
     "execution_count": 174,
     "metadata": {},
     "output_type": "execute_result"
    }
   ],
   "source": [
    "# Filtramos el estado de florida con la columna \"address\" \n",
    "df_Florida_Google = df_Restaurant[df_Restaurant[\"address\"].str.contains(\"FL\",na=False)]\n",
    "\n",
    "# Ciudades que no hay que filtrar\n",
    "Ciudades = ['Fort Lauderdale', 'Miami', 'Miami Gardens',\"Boca Raton\"]\n",
    "\n",
    "# Filtrar las filas que contienen los términos definidos\n",
    "filtrados = df_Florida_Google[df_Florida_Google['address'].str.contains('|'.join(Ciudades), case=False)]\n",
    "\n",
    "# Obtener las filas no filtradas del DataFrame original\n",
    "df_Florida_Google = df_Florida_Google[~df_Florida_Google.index.isin(filtrados.index)]\n",
    "df_Florida_Google.count()"
   ]
  },
  {
   "cell_type": "markdown",
   "metadata": {},
   "source": [
    "Existen 5031 restaurantes en florida exceptuando Fort Lauderdale, Miami, Miami Gardens y Boca Raton"
   ]
  },
  {
   "cell_type": "markdown",
   "metadata": {},
   "source": [
    "top 5 mayores restaurantes"
   ]
  },
  {
   "cell_type": "code",
   "execution_count": 200,
   "metadata": {},
   "outputs": [
    {
     "data": {
      "text/plain": [
       "category\n",
       "['Restaurant']                                                                              1292\n",
       "['Pizza restaurant']                                                                         142\n",
       "['Mexican restaurant']                                                                       136\n",
       "['Sandwich shop', 'Caterer', 'Fast food restaurant', 'Takeout Restaurant', 'Restaurant']     105\n",
       "['American restaurant']                                                                       85\n",
       "Name: count, dtype: int64"
      ]
     },
     "execution_count": 200,
     "metadata": {},
     "output_type": "execute_result"
    }
   ],
   "source": [
    "top_5_restaurantes = df_Florida_Google[\"category\"].value_counts().head(5)\n",
    "top_5_restaurantes"
   ]
  },
  {
   "cell_type": "markdown",
   "metadata": {},
   "source": [
    "Los retaurantes mas predominante son de pizza, mexicano, fast food, americano"
   ]
  },
  {
   "cell_type": "code",
   "execution_count": 224,
   "metadata": {},
   "outputs": [
    {
     "data": {
      "text/html": [
       "<div>\n",
       "<style scoped>\n",
       "    .dataframe tbody tr th:only-of-type {\n",
       "        vertical-align: middle;\n",
       "    }\n",
       "\n",
       "    .dataframe tbody tr th {\n",
       "        vertical-align: top;\n",
       "    }\n",
       "\n",
       "    .dataframe thead th {\n",
       "        text-align: right;\n",
       "    }\n",
       "</style>\n",
       "<table border=\"1\" class=\"dataframe\">\n",
       "  <thead>\n",
       "    <tr style=\"text-align: right;\">\n",
       "      <th></th>\n",
       "      <th>category</th>\n",
       "      <th>avg_rating</th>\n",
       "    </tr>\n",
       "  </thead>\n",
       "  <tbody>\n",
       "    <tr>\n",
       "      <th>1344</th>\n",
       "      <td>['Restaurant']</td>\n",
       "      <td>5464.2</td>\n",
       "    </tr>\n",
       "    <tr>\n",
       "      <th>982</th>\n",
       "      <td>['Mexican restaurant']</td>\n",
       "      <td>581.7</td>\n",
       "    </tr>\n",
       "    <tr>\n",
       "      <th>1119</th>\n",
       "      <td>['Pizza restaurant']</td>\n",
       "      <td>580.1</td>\n",
       "    </tr>\n",
       "    <tr>\n",
       "      <th>1364</th>\n",
       "      <td>['Sandwich shop', 'Caterer', 'Fast food restau...</td>\n",
       "      <td>399.4</td>\n",
       "    </tr>\n",
       "    <tr>\n",
       "      <th>70</th>\n",
       "      <td>['American restaurant']</td>\n",
       "      <td>360.7</td>\n",
       "    </tr>\n",
       "  </tbody>\n",
       "</table>\n",
       "</div>"
      ],
      "text/plain": [
       "                                               category  avg_rating\n",
       "1344                                     ['Restaurant']      5464.2\n",
       "982                              ['Mexican restaurant']       581.7\n",
       "1119                               ['Pizza restaurant']       580.1\n",
       "1364  ['Sandwich shop', 'Caterer', 'Fast food restau...       399.4\n",
       "70                              ['American restaurant']       360.7"
      ]
     },
     "execution_count": 224,
     "metadata": {},
     "output_type": "execute_result"
    }
   ],
   "source": [
    "grupo_categorias = df_Florida_Google.groupby('category')['avg_rating'].sum().reset_index()\n",
    "top_categorias = grupo_categorias.sort_values(by='avg_rating', ascending=False).head(5)\n",
    "top_categorias\n",
    "\n"
   ]
  },
  {
   "cell_type": "code",
   "execution_count": 230,
   "metadata": {},
   "outputs": [
    {
     "data": {
      "image/png": "[encoded data removed]",
      "text/plain": [
       "<Figure size 1000x600 with 1 Axes>"
      ]
     },
     "metadata": {},
     "output_type": "display_data"
    }
   ],
   "source": [
    "import matplotlib.pyplot as plt\n",
    "\n",
    "# Suponiendo que 'top_categorias' es el DataFrame con el top 5 de categorías y sus sumas de rating\n",
    "plt.figure(figsize=(10, 6))\n",
    "plt.barh(top_categorias['category'], top_categorias['avg_rating'], color='skyblue')\n",
    "plt.xlabel('Suma de Ratings')\n",
    "plt.ylabel('Categorías de Restaurantes')\n",
    "plt.title('Top 5 de Categorías de Restaurantes por Suma de Ratings')\n",
    "plt.gca().invert_yaxis()  # Invertir el eje y para mostrar la categoría con mayor rating en la parte superior\n",
    "plt.show()\n"
   ]
  },
  {
   "cell_type": "markdown",
   "metadata": {},
   "source": [
    " Restaurante que tienen servicio de delivery"
   ]
  },
  {
   "cell_type": "code",
   "execution_count": 194,
   "metadata": {},
   "outputs": [
    {
     "data": {
      "text/plain": [
       "4457"
      ]
     },
     "execution_count": 194,
     "metadata": {},
     "output_type": "execute_result"
    }
   ],
   "source": [
    "# Rellenamos valores faltantes\n",
    "df_Florida_Google['MISC'].fillna('', inplace=True)\n",
    "# Observamos los restaurantes que tienen dleivery\n",
    "delivery = df_Florida_Google[df_Florida_Google['MISC'].str.contains(\"Delivery\", case=False)]\n",
    "delivery[\"MISC\"].count()"
   ]
  },
  {
   "cell_type": "markdown",
   "metadata": {},
   "source": [
    "4457 restaurantes tienen servicio de delivery"
   ]
  },
  {
   "cell_type": "markdown",
   "metadata": {},
   "source": [
    "Grafico Circular, Porcentaje de Restaurantes con y sin Servicio de Delivery en Florida"
   ]
  },
  {
   "cell_type": "code",
   "execution_count": 198,
   "metadata": {},
   "outputs": [
    {
     "data": {
      "image/png": "[encoded data removed]",
      "text/plain": [
       "<Figure size 800x600 with 1 Axes>"
      ]
     },
     "metadata": {},
     "output_type": "display_data"
    }
   ],
   "source": [
    "import matplotlib.pyplot as plt\n",
    "\n",
    "# Datos\n",
    "total_restaurantes = 5031\n",
    "con_delivery = 4457\n",
    "sin_delivery = total_restaurantes - con_delivery\n",
    "\n",
    "# Etiquetas y valores para el gráfico\n",
    "etiquetas = ['Con Delivery', 'Sin Delivery']\n",
    "valores = [con_delivery, sin_delivery]\n",
    "colores = ['#ff9999','#66b3ff']\n",
    "\n",
    "# Crear gráfico de torta\n",
    "plt.figure(figsize=(8, 6))\n",
    "plt.pie(valores, labels=etiquetas, colors=colores, autopct='%1.1f%%', startangle=90)\n",
    "plt.title('Distribución de Restaurantes con y sin Servicio de Delivery')\n",
    "plt.axis('equal')  # Hace que el gráfico sea un círculo en lugar de una elipse\n",
    "\n",
    "# Mostrar el gráfico\n",
    "plt.show()\n"
   ]
  },
  {
   "cell_type": "markdown",
   "metadata": {},
   "source": [
    "Concatenamos 11 archivos JSON en \"metadata-sitios\", se procedió a filtrar los 5031 restaurantes ubicados en Florida, excluyendo Fort Lauderdale, Miami, Miami Gardens y Boca Raton. Del total, un 88.6% ofrece servicio de delivery. Entre las principales categorías de restaurantes destacaron los de pizza, los mexicanos, los de comida rápida y los estadounidenses. Basándonos en estos datos, invertir en un restaurante mexicano, preferiblemente con servicio de delivery, podría generar mayores ventas y recibir mejores calificaciones."
   ]
  },
  {
   "cell_type": "markdown",
   "metadata": {},
   "source": [
    "## Reviews-Florida"
   ]
  },
  {
   "cell_type": "code",
   "execution_count": null,
   "metadata": {},
   "outputs": [],
   "source": [
    "datos = []\n",
    "with open('C:\\\\Users\\\\Giuliano\\\\Desktop\\\\Proyecto grupal\\\\Google maps\\\\review_Florida\\\\8.json',\"r\",encoding=\"utf-8\") as archivo:\n",
    "    for linea in archivo:\n",
    "        objeto_json = json.loads(linea)\n",
    "        datos.append(objeto_json)\n",
    "\n",
    "df_review_8 = pd.DataFrame(datos)\n"
   ]
  },
  {
   "cell_type": "code",
   "execution_count": null,
   "metadata": {},
   "outputs": [],
   "source": [
    "datos = []\n",
    "with open('C:\\\\Users\\\\Giuliano\\\\Desktop\\\\Proyecto grupal\\\\Google maps\\\\review_Florida\\\\10.json',\"r\",encoding=\"utf-8\") as archivo:\n",
    "    for linea in archivo:\n",
    "        objeto_json = json.loads(linea)\n",
    "        datos.append(objeto_json)\n",
    "\n",
    "df_review_10 = pd.DataFrame(datos)\n"
   ]
  },
  {
   "cell_type": "code",
   "execution_count": null,
   "metadata": {},
   "outputs": [],
   "source": [
    "datos = []\n",
    "with open('C:\\\\Users\\\\Giuliano\\\\Desktop\\\\Proyecto grupal\\\\Google maps\\\\review_Florida\\\\11.json',\"r\",encoding=\"utf-8\") as archivo:\n",
    "    for linea in archivo:\n",
    "        objeto_json = json.loads(linea)\n",
    "        datos.append(objeto_json)\n",
    "\n",
    "df_review_11 = pd.DataFrame(datos)\n"
   ]
  },
  {
   "cell_type": "code",
   "execution_count": null,
   "metadata": {},
   "outputs": [],
   "source": [
    "datos = []\n",
    "with open('C:\\\\Users\\\\Giuliano\\\\Desktop\\\\Proyecto grupal\\\\Google maps\\\\review_Florida\\\\14.json',\"r\",encoding=\"utf-8\") as archivo:\n",
    "    for linea in archivo:\n",
    "        objeto_json = json.loads(linea)\n",
    "        datos.append(objeto_json)\n",
    "\n",
    "df_review_14 = pd.DataFrame(datos)"
   ]
  },
  {
   "cell_type": "code",
   "execution_count": null,
   "metadata": {},
   "outputs": [],
   "source": [
    "datos = []\n",
    "with open('C:\\\\Users\\\\Giuliano\\\\Desktop\\\\Proyecto grupal\\\\Google maps\\\\review_Florida\\\\17.json',\"r\",encoding=\"utf-8\") as archivo:\n",
    "    for linea in archivo:\n",
    "        objeto_json = json.loads(linea)\n",
    "        datos.append(objeto_json)\n",
    "\n",
    "df_review_17 = pd.DataFrame(datos)"
   ]
  },
  {
   "cell_type": "code",
   "execution_count": null,
   "metadata": {},
   "outputs": [],
   "source": [
    "datos = []\n",
    "with open('C:\\\\Users\\\\Giuliano\\\\Desktop\\\\Proyecto grupal\\\\Google maps\\\\review_Florida\\\\18.json',\"r\",encoding=\"utf-8\") as archivo:\n",
    "    for linea in archivo:\n",
    "        objeto_json = json.loads(linea)\n",
    "        datos.append(objeto_json)\n",
    "\n",
    "df_review_18 = pd.DataFrame(datos)"
   ]
  },
  {
   "cell_type": "code",
   "execution_count": null,
   "metadata": {},
   "outputs": [],
   "source": [
    "merge_1 = pd.merge(df_review_8,df_review_10,on=\"user_id\",how=\"inner\")\n",
    "merge_2 = pd.merge(merge_1,df_review_11,on=\"user_id\",how=\"inner\")"
   ]
  },
  {
   "cell_type": "code",
   "execution_count": null,
   "metadata": {},
   "outputs": [],
   "source": [
    "lista= [\"name_x\",\"time_x\",\"rating_x\",\"text_x\",\"pics_x\",\"resp_x\",\"gmap_id_x\",\"name_y\",\"time_y\",\"rating_y\",\"text_y\",\"pics_y\",\"resp_y\",\"gmap_id_y\"]\n",
    "merge_2 = merge_2.drop(columns=lista)"
   ]
  },
  {
   "cell_type": "code",
   "execution_count": null,
   "metadata": {},
   "outputs": [],
   "source": [
    "merge_3 = pd.merge(merge_2,df_review_14,on=\"user_id\",how=\"inner\")\n",
    "merge_4 = pd.merge(merge_3,df_review_17,on=\"user_id\",how=\"inner\")"
   ]
  },
  {
   "cell_type": "code",
   "execution_count": null,
   "metadata": {},
   "outputs": [],
   "source": [
    "lista= [\"name_x\",\"time_x\",\"rating_x\",\"text_x\",\"pics_x\",\"resp_x\",\"gmap_id_x\",\"name_y\",\"time_y\",\"rating_y\",\"text_y\",\"pics_y\",\"resp_y\",\"gmap_id_y\"]\n",
    "merge_4 = merge_4.drop(columns=lista)\n",
    "merge_5 = pd.merge(merge_4,df_review_18,on=\"user_id\",how=\"inner\")"
   ]
  },
  {
   "cell_type": "code",
   "execution_count": null,
   "metadata": {},
   "outputs": [],
   "source": [
    "lista= [\"name_y\",\"time_y\",\"rating_y\",\"text_y\",\"pics_y\",\"resp_y\",\"gmap_id_y\"]\n",
    "df_reviews_maps = merge_5.drop(columns=lista)"
   ]
  },
  {
   "cell_type": "code",
   "execution_count": null,
   "metadata": {},
   "outputs": [],
   "source": [
    "df_reviews_maps.to_csv(\"df_reviews_maps.csv\")"
   ]
  },
  {
   "cell_type": "code",
   "execution_count": 6,
   "metadata": {},
   "outputs": [
    {
     "name": "stderr",
     "output_type": "stream",
     "text": [
      "C:\\Users\\Giuliano\\AppData\\Local\\Temp\\ipykernel_7176\\3646677170.py:1: DtypeWarning: Columns (5,6,7) have mixed types. Specify dtype option on import or set low_memory=False.\n",
      "  pd.read_csv(\"df_reviews_maps.csv\")\n"
     ]
    },
    {
     "data": {
      "text/html": [
       "<div>\n",
       "<style scoped>\n",
       "    .dataframe tbody tr th:only-of-type {\n",
       "        vertical-align: middle;\n",
       "    }\n",
       "\n",
       "    .dataframe tbody tr th {\n",
       "        vertical-align: top;\n",
       "    }\n",
       "\n",
       "    .dataframe thead th {\n",
       "        text-align: right;\n",
       "    }\n",
       "</style>\n",
       "<table border=\"1\" class=\"dataframe\">\n",
       "  <thead>\n",
       "    <tr style=\"text-align: right;\">\n",
       "      <th></th>\n",
       "      <th>Unnamed: 0</th>\n",
       "      <th>user_id</th>\n",
       "      <th>name_x</th>\n",
       "      <th>time_x</th>\n",
       "      <th>rating_x</th>\n",
       "      <th>text_x</th>\n",
       "      <th>pics_x</th>\n",
       "      <th>resp_x</th>\n",
       "      <th>gmap_id_x</th>\n",
       "    </tr>\n",
       "  </thead>\n",
       "  <tbody>\n",
       "    <tr>\n",
       "      <th>0</th>\n",
       "      <td>0</td>\n",
       "      <td>101979910797375182031</td>\n",
       "      <td>Li Zephyr</td>\n",
       "      <td>1583346035826</td>\n",
       "      <td>5</td>\n",
       "      <td>NaN</td>\n",
       "      <td>NaN</td>\n",
       "      <td>NaN</td>\n",
       "      <td>0x88e77c4a94a8278b:0x391d52e0b192f1d3</td>\n",
       "    </tr>\n",
       "    <tr>\n",
       "      <th>1</th>\n",
       "      <td>1</td>\n",
       "      <td>113992450246527333718</td>\n",
       "      <td>Erik Kling</td>\n",
       "      <td>1476977652621</td>\n",
       "      <td>5</td>\n",
       "      <td>NaN</td>\n",
       "      <td>NaN</td>\n",
       "      <td>NaN</td>\n",
       "      <td>0x88d0d94e5f4a099d:0x6f78101fcc3b6ed7</td>\n",
       "    </tr>\n",
       "    <tr>\n",
       "      <th>2</th>\n",
       "      <td>2</td>\n",
       "      <td>113992450246527333718</td>\n",
       "      <td>Erik Kling</td>\n",
       "      <td>1476977652621</td>\n",
       "      <td>5</td>\n",
       "      <td>NaN</td>\n",
       "      <td>NaN</td>\n",
       "      <td>NaN</td>\n",
       "      <td>0x88d0d94e5f4a099d:0x6f78101fcc3b6ed7</td>\n",
       "    </tr>\n",
       "    <tr>\n",
       "      <th>3</th>\n",
       "      <td>3</td>\n",
       "      <td>113992450246527333718</td>\n",
       "      <td>Erik Kling</td>\n",
       "      <td>1476977652621</td>\n",
       "      <td>5</td>\n",
       "      <td>NaN</td>\n",
       "      <td>NaN</td>\n",
       "      <td>NaN</td>\n",
       "      <td>0x88d0d94e5f4a099d:0x6f78101fcc3b6ed7</td>\n",
       "    </tr>\n",
       "    <tr>\n",
       "      <th>4</th>\n",
       "      <td>4</td>\n",
       "      <td>113992450246527333718</td>\n",
       "      <td>Erik Kling</td>\n",
       "      <td>1476977652621</td>\n",
       "      <td>5</td>\n",
       "      <td>NaN</td>\n",
       "      <td>NaN</td>\n",
       "      <td>NaN</td>\n",
       "      <td>0x88d0d94e5f4a099d:0x6f78101fcc3b6ed7</td>\n",
       "    </tr>\n",
       "    <tr>\n",
       "      <th>...</th>\n",
       "      <td>...</td>\n",
       "      <td>...</td>\n",
       "      <td>...</td>\n",
       "      <td>...</td>\n",
       "      <td>...</td>\n",
       "      <td>...</td>\n",
       "      <td>...</td>\n",
       "      <td>...</td>\n",
       "      <td>...</td>\n",
       "    </tr>\n",
       "    <tr>\n",
       "      <th>1427576</th>\n",
       "      <td>1427576</td>\n",
       "      <td>114197646375603773697</td>\n",
       "      <td>Adrian Oropeza</td>\n",
       "      <td>1600984670010</td>\n",
       "      <td>5</td>\n",
       "      <td>Outstanding quality, service, honesty, prices ...</td>\n",
       "      <td>NaN</td>\n",
       "      <td>NaN</td>\n",
       "      <td>0x88d908719a5ea8c9:0xbd0669172d9fb0b2</td>\n",
       "    </tr>\n",
       "    <tr>\n",
       "      <th>1427577</th>\n",
       "      <td>1427577</td>\n",
       "      <td>114197646375603773697</td>\n",
       "      <td>Adrian Oropeza</td>\n",
       "      <td>1600984670010</td>\n",
       "      <td>5</td>\n",
       "      <td>Outstanding quality, service, honesty, prices ...</td>\n",
       "      <td>NaN</td>\n",
       "      <td>NaN</td>\n",
       "      <td>0x88d908719a5ea8c9:0xbd0669172d9fb0b2</td>\n",
       "    </tr>\n",
       "    <tr>\n",
       "      <th>1427578</th>\n",
       "      <td>1427578</td>\n",
       "      <td>114197646375603773697</td>\n",
       "      <td>Adrian Oropeza</td>\n",
       "      <td>1600984670010</td>\n",
       "      <td>5</td>\n",
       "      <td>Outstanding quality, service, honesty, prices ...</td>\n",
       "      <td>NaN</td>\n",
       "      <td>NaN</td>\n",
       "      <td>0x88d908719a5ea8c9:0xbd0669172d9fb0b2</td>\n",
       "    </tr>\n",
       "    <tr>\n",
       "      <th>1427579</th>\n",
       "      <td>1427579</td>\n",
       "      <td>114197646375603773697</td>\n",
       "      <td>Adrian Oropeza</td>\n",
       "      <td>1600984670010</td>\n",
       "      <td>5</td>\n",
       "      <td>Outstanding quality, service, honesty, prices ...</td>\n",
       "      <td>NaN</td>\n",
       "      <td>NaN</td>\n",
       "      <td>0x88d908719a5ea8c9:0xbd0669172d9fb0b2</td>\n",
       "    </tr>\n",
       "    <tr>\n",
       "      <th>1427580</th>\n",
       "      <td>1427580</td>\n",
       "      <td>114629205184233229430</td>\n",
       "      <td>Adolfo Bonilla</td>\n",
       "      <td>1601605697168</td>\n",
       "      <td>4</td>\n",
       "      <td>...close to home, treated me great. Only compl...</td>\n",
       "      <td>NaN</td>\n",
       "      <td>NaN</td>\n",
       "      <td>0x88d900e4970f9b33:0xfae347a7d39be4da</td>\n",
       "    </tr>\n",
       "  </tbody>\n",
       "</table>\n",
       "<p>1427581 rows × 9 columns</p>\n",
       "</div>"
      ],
      "text/plain": [
       "         Unnamed: 0                user_id          name_x         time_x  \\\n",
       "0                 0  101979910797375182031       Li Zephyr  1583346035826   \n",
       "1                 1  113992450246527333718      Erik Kling  1476977652621   \n",
       "2                 2  113992450246527333718      Erik Kling  1476977652621   \n",
       "3                 3  113992450246527333718      Erik Kling  1476977652621   \n",
       "4                 4  113992450246527333718      Erik Kling  1476977652621   \n",
       "...             ...                    ...             ...            ...   \n",
       "1427576     1427576  114197646375603773697  Adrian Oropeza  1600984670010   \n",
       "1427577     1427577  114197646375603773697  Adrian Oropeza  1600984670010   \n",
       "1427578     1427578  114197646375603773697  Adrian Oropeza  1600984670010   \n",
       "1427579     1427579  114197646375603773697  Adrian Oropeza  1600984670010   \n",
       "1427580     1427580  114629205184233229430  Adolfo Bonilla  1601605697168   \n",
       "\n",
       "         rating_x                                             text_x pics_x  \\\n",
       "0               5                                                NaN    NaN   \n",
       "1               5                                                NaN    NaN   \n",
       "2               5                                                NaN    NaN   \n",
       "3               5                                                NaN    NaN   \n",
       "4               5                                                NaN    NaN   \n",
       "...           ...                                                ...    ...   \n",
       "1427576         5  Outstanding quality, service, honesty, prices ...    NaN   \n",
       "1427577         5  Outstanding quality, service, honesty, prices ...    NaN   \n",
       "1427578         5  Outstanding quality, service, honesty, prices ...    NaN   \n",
       "1427579         5  Outstanding quality, service, honesty, prices ...    NaN   \n",
       "1427580         4  ...close to home, treated me great. Only compl...    NaN   \n",
       "\n",
       "        resp_x                              gmap_id_x  \n",
       "0          NaN  0x88e77c4a94a8278b:0x391d52e0b192f1d3  \n",
       "1          NaN  0x88d0d94e5f4a099d:0x6f78101fcc3b6ed7  \n",
       "2          NaN  0x88d0d94e5f4a099d:0x6f78101fcc3b6ed7  \n",
       "3          NaN  0x88d0d94e5f4a099d:0x6f78101fcc3b6ed7  \n",
       "4          NaN  0x88d0d94e5f4a099d:0x6f78101fcc3b6ed7  \n",
       "...        ...                                    ...  \n",
       "1427576    NaN  0x88d908719a5ea8c9:0xbd0669172d9fb0b2  \n",
       "1427577    NaN  0x88d908719a5ea8c9:0xbd0669172d9fb0b2  \n",
       "1427578    NaN  0x88d908719a5ea8c9:0xbd0669172d9fb0b2  \n",
       "1427579    NaN  0x88d908719a5ea8c9:0xbd0669172d9fb0b2  \n",
       "1427580    NaN  0x88d900e4970f9b33:0xfae347a7d39be4da  \n",
       "\n",
       "[1427581 rows x 9 columns]"
      ]
     },
     "execution_count": 6,
     "metadata": {},
     "output_type": "execute_result"
    }
   ],
   "source": [
    "pd.read_csv(\"df_reviews_maps.csv\")"
   ]
  },
  {
   "cell_type": "code",
   "execution_count": 7,
   "metadata": {},
   "outputs": [
    {
     "data": {
      "text/html": [
       "<div>\n",
       "<style scoped>\n",
       "    .dataframe tbody tr th:only-of-type {\n",
       "        vertical-align: middle;\n",
       "    }\n",
       "\n",
       "    .dataframe tbody tr th {\n",
       "        vertical-align: top;\n",
       "    }\n",
       "\n",
       "    .dataframe thead th {\n",
       "        text-align: right;\n",
       "    }\n",
       "</style>\n",
       "<table border=\"1\" class=\"dataframe\">\n",
       "  <thead>\n",
       "    <tr style=\"text-align: right;\">\n",
       "      <th></th>\n",
       "      <th>Unnamed: 0</th>\n",
       "      <th>user_id</th>\n",
       "      <th>name_x</th>\n",
       "      <th>time_x</th>\n",
       "      <th>rating_x</th>\n",
       "      <th>text_x</th>\n",
       "      <th>pics_x</th>\n",
       "      <th>resp_x</th>\n",
       "      <th>gmap_id_x</th>\n",
       "    </tr>\n",
       "  </thead>\n",
       "  <tbody>\n",
       "    <tr>\n",
       "      <th>0</th>\n",
       "      <td>0</td>\n",
       "      <td>101979910797375182031</td>\n",
       "      <td>Li Zephyr</td>\n",
       "      <td>1583346035826</td>\n",
       "      <td>5</td>\n",
       "      <td>NaN</td>\n",
       "      <td>NaN</td>\n",
       "      <td>NaN</td>\n",
       "      <td>0x88e77c4a94a8278b:0x391d52e0b192f1d3</td>\n",
       "    </tr>\n",
       "    <tr>\n",
       "      <th>1</th>\n",
       "      <td>1</td>\n",
       "      <td>113992450246527333718</td>\n",
       "      <td>Erik Kling</td>\n",
       "      <td>1476977652621</td>\n",
       "      <td>5</td>\n",
       "      <td>NaN</td>\n",
       "      <td>NaN</td>\n",
       "      <td>NaN</td>\n",
       "      <td>0x88d0d94e5f4a099d:0x6f78101fcc3b6ed7</td>\n",
       "    </tr>\n",
       "    <tr>\n",
       "      <th>2</th>\n",
       "      <td>2</td>\n",
       "      <td>113992450246527333718</td>\n",
       "      <td>Erik Kling</td>\n",
       "      <td>1476977652621</td>\n",
       "      <td>5</td>\n",
       "      <td>NaN</td>\n",
       "      <td>NaN</td>\n",
       "      <td>NaN</td>\n",
       "      <td>0x88d0d94e5f4a099d:0x6f78101fcc3b6ed7</td>\n",
       "    </tr>\n",
       "    <tr>\n",
       "      <th>3</th>\n",
       "      <td>3</td>\n",
       "      <td>113992450246527333718</td>\n",
       "      <td>Erik Kling</td>\n",
       "      <td>1476977652621</td>\n",
       "      <td>5</td>\n",
       "      <td>NaN</td>\n",
       "      <td>NaN</td>\n",
       "      <td>NaN</td>\n",
       "      <td>0x88d0d94e5f4a099d:0x6f78101fcc3b6ed7</td>\n",
       "    </tr>\n",
       "    <tr>\n",
       "      <th>4</th>\n",
       "      <td>4</td>\n",
       "      <td>113992450246527333718</td>\n",
       "      <td>Erik Kling</td>\n",
       "      <td>1476977652621</td>\n",
       "      <td>5</td>\n",
       "      <td>NaN</td>\n",
       "      <td>NaN</td>\n",
       "      <td>NaN</td>\n",
       "      <td>0x88d0d94e5f4a099d:0x6f78101fcc3b6ed7</td>\n",
       "    </tr>\n",
       "    <tr>\n",
       "      <th>...</th>\n",
       "      <td>...</td>\n",
       "      <td>...</td>\n",
       "      <td>...</td>\n",
       "      <td>...</td>\n",
       "      <td>...</td>\n",
       "      <td>...</td>\n",
       "      <td>...</td>\n",
       "      <td>...</td>\n",
       "      <td>...</td>\n",
       "    </tr>\n",
       "    <tr>\n",
       "      <th>1427576</th>\n",
       "      <td>1427576</td>\n",
       "      <td>114197646375603773697</td>\n",
       "      <td>Adrian Oropeza</td>\n",
       "      <td>1600984670010</td>\n",
       "      <td>5</td>\n",
       "      <td>Outstanding quality, service, honesty, prices ...</td>\n",
       "      <td>NaN</td>\n",
       "      <td>NaN</td>\n",
       "      <td>0x88d908719a5ea8c9:0xbd0669172d9fb0b2</td>\n",
       "    </tr>\n",
       "    <tr>\n",
       "      <th>1427577</th>\n",
       "      <td>1427577</td>\n",
       "      <td>114197646375603773697</td>\n",
       "      <td>Adrian Oropeza</td>\n",
       "      <td>1600984670010</td>\n",
       "      <td>5</td>\n",
       "      <td>Outstanding quality, service, honesty, prices ...</td>\n",
       "      <td>NaN</td>\n",
       "      <td>NaN</td>\n",
       "      <td>0x88d908719a5ea8c9:0xbd0669172d9fb0b2</td>\n",
       "    </tr>\n",
       "    <tr>\n",
       "      <th>1427578</th>\n",
       "      <td>1427578</td>\n",
       "      <td>114197646375603773697</td>\n",
       "      <td>Adrian Oropeza</td>\n",
       "      <td>1600984670010</td>\n",
       "      <td>5</td>\n",
       "      <td>Outstanding quality, service, honesty, prices ...</td>\n",
       "      <td>NaN</td>\n",
       "      <td>NaN</td>\n",
       "      <td>0x88d908719a5ea8c9:0xbd0669172d9fb0b2</td>\n",
       "    </tr>\n",
       "    <tr>\n",
       "      <th>1427579</th>\n",
       "      <td>1427579</td>\n",
       "      <td>114197646375603773697</td>\n",
       "      <td>Adrian Oropeza</td>\n",
       "      <td>1600984670010</td>\n",
       "      <td>5</td>\n",
       "      <td>Outstanding quality, service, honesty, prices ...</td>\n",
       "      <td>NaN</td>\n",
       "      <td>NaN</td>\n",
       "      <td>0x88d908719a5ea8c9:0xbd0669172d9fb0b2</td>\n",
       "    </tr>\n",
       "    <tr>\n",
       "      <th>1427580</th>\n",
       "      <td>1427580</td>\n",
       "      <td>114629205184233229430</td>\n",
       "      <td>Adolfo Bonilla</td>\n",
       "      <td>1601605697168</td>\n",
       "      <td>4</td>\n",
       "      <td>...close to home, treated me great. Only compl...</td>\n",
       "      <td>NaN</td>\n",
       "      <td>NaN</td>\n",
       "      <td>0x88d900e4970f9b33:0xfae347a7d39be4da</td>\n",
       "    </tr>\n",
       "  </tbody>\n",
       "</table>\n",
       "<p>1427581 rows × 9 columns</p>\n",
       "</div>"
      ],
      "text/plain": [
       "         Unnamed: 0                user_id          name_x         time_x  \\\n",
       "0                 0  101979910797375182031       Li Zephyr  1583346035826   \n",
       "1                 1  113992450246527333718      Erik Kling  1476977652621   \n",
       "2                 2  113992450246527333718      Erik Kling  1476977652621   \n",
       "3                 3  113992450246527333718      Erik Kling  1476977652621   \n",
       "4                 4  113992450246527333718      Erik Kling  1476977652621   \n",
       "...             ...                    ...             ...            ...   \n",
       "1427576     1427576  114197646375603773697  Adrian Oropeza  1600984670010   \n",
       "1427577     1427577  114197646375603773697  Adrian Oropeza  1600984670010   \n",
       "1427578     1427578  114197646375603773697  Adrian Oropeza  1600984670010   \n",
       "1427579     1427579  114197646375603773697  Adrian Oropeza  1600984670010   \n",
       "1427580     1427580  114629205184233229430  Adolfo Bonilla  1601605697168   \n",
       "\n",
       "         rating_x                                             text_x pics_x  \\\n",
       "0               5                                                NaN    NaN   \n",
       "1               5                                                NaN    NaN   \n",
       "2               5                                                NaN    NaN   \n",
       "3               5                                                NaN    NaN   \n",
       "4               5                                                NaN    NaN   \n",
       "...           ...                                                ...    ...   \n",
       "1427576         5  Outstanding quality, service, honesty, prices ...    NaN   \n",
       "1427577         5  Outstanding quality, service, honesty, prices ...    NaN   \n",
       "1427578         5  Outstanding quality, service, honesty, prices ...    NaN   \n",
       "1427579         5  Outstanding quality, service, honesty, prices ...    NaN   \n",
       "1427580         4  ...close to home, treated me great. Only compl...    NaN   \n",
       "\n",
       "        resp_x                              gmap_id_x  \n",
       "0          NaN  0x88e77c4a94a8278b:0x391d52e0b192f1d3  \n",
       "1          NaN  0x88d0d94e5f4a099d:0x6f78101fcc3b6ed7  \n",
       "2          NaN  0x88d0d94e5f4a099d:0x6f78101fcc3b6ed7  \n",
       "3          NaN  0x88d0d94e5f4a099d:0x6f78101fcc3b6ed7  \n",
       "4          NaN  0x88d0d94e5f4a099d:0x6f78101fcc3b6ed7  \n",
       "...        ...                                    ...  \n",
       "1427576    NaN  0x88d908719a5ea8c9:0xbd0669172d9fb0b2  \n",
       "1427577    NaN  0x88d908719a5ea8c9:0xbd0669172d9fb0b2  \n",
       "1427578    NaN  0x88d908719a5ea8c9:0xbd0669172d9fb0b2  \n",
       "1427579    NaN  0x88d908719a5ea8c9:0xbd0669172d9fb0b2  \n",
       "1427580    NaN  0x88d900e4970f9b33:0xfae347a7d39be4da  \n",
       "\n",
       "[1427581 rows x 9 columns]"
      ]
     },
     "execution_count": 7,
     "metadata": {},
     "output_type": "execute_result"
    }
   ],
   "source": [
    "df_reviews_maps"
   ]
  }
 ],
 "metadata": {
  "kernelspec": {
   "display_name": "Python 3",
   "language": "python",
   "name": "python3"
  },
  "language_info": {
   "codemirror_mode": {
    "name": "ipython",
    "version": 3
   },
   "file_extension": ".py",
   "mimetype": "text/x-python",
   "name": "python",
   "nbconvert_exporter": "python",
   "pygments_lexer": "ipython3",
   "version": "3.9.13"
  }
 },
 "nbformat": 4,
 "nbformat_minor": 2
}
