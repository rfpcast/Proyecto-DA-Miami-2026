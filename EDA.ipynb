{
 "cells": [
  {
   "cell_type": "code",
   "execution_count": 2,
   "metadata": {},
   "outputs": [],
   "source": [
    "import pandas as pd\n",
    "import json\n",
    "import pickle"
   ]
  },
  {
   "cell_type": "markdown",
   "metadata": {},
   "source": [
    "# DATASET GOOGLE MAPS"
   ]
  },
  {
   "cell_type": "markdown",
   "metadata": {},
   "source": [
    "## Sitios"
   ]
  },
  {
   "cell_type": "markdown",
   "metadata": {},
   "source": [
    "Abrimos archivo \"1.json\""
   ]
  },
  {
   "cell_type": "code",
   "execution_count": 3,
   "metadata": {},
   "outputs": [],
   "source": [
    "df_Restaurant = pd.read_csv(\"C:\\\\Users\\\\Giuliano\\\\Desktop\\\\Proyecto grupal\\\\df_Restaurant.csv\")"
   ]
  },
  {
   "cell_type": "code",
   "execution_count": 4,
   "metadata": {},
   "outputs": [],
   "source": [
    "archivo = \"C:\\\\Users\\\\Giuliano\\\\Desktop\\\\Proyecto grupal\\\\Google maps\\\\metadata-sitios\\\\1.json\"\n",
    "\n",
    "datos = []\n",
    "with open(archivo,\"r\") as archivo:\n",
    "    for linea in archivo:\n",
    "        objetos = json.loads(linea)\n",
    "        datos.append(objetos)\n",
    "\n",
    "df_sitios_1 = pd.DataFrame(datos)"
   ]
  },
  {
   "cell_type": "markdown",
   "metadata": {},
   "source": [
    "Abrimos archivo \"2.json\""
   ]
  },
  {
   "cell_type": "code",
   "execution_count": 5,
   "metadata": {},
   "outputs": [],
   "source": [
    "archivo = \"C:\\\\Users\\\\Giuliano\\\\Desktop\\\\Proyecto grupal\\\\Google maps\\\\metadata-sitios\\\\2.json\"\n",
    "\n",
    "datos = []\n",
    "with open(archivo,\"r\") as archivo:\n",
    "    for linea in archivo:\n",
    "        objetos = json.loads(linea)\n",
    "        datos.append(objetos)\n",
    "\n",
    "df_sitios_2 = pd.DataFrame(datos)"
   ]
  },
  {
   "cell_type": "markdown",
   "metadata": {},
   "source": [
    "\n",
    "Abrimos archivo \"3.json\""
   ]
  },
  {
   "cell_type": "code",
   "execution_count": 6,
   "metadata": {},
   "outputs": [],
   "source": [
    "archivo = \"C:\\\\Users\\\\Giuliano\\\\Desktop\\\\Proyecto grupal\\\\Google maps\\\\metadata-sitios\\\\3.json\"\n",
    "\n",
    "datos = []\n",
    "with open(archivo,\"r\") as archivo:\n",
    "    for linea in archivo:\n",
    "        objetos = json.loads(linea)\n",
    "        datos.append(objetos)\n",
    "\n",
    "df_sitios_3 = pd.DataFrame(datos)"
   ]
  },
  {
   "cell_type": "markdown",
   "metadata": {},
   "source": [
    "Abrimos archivo \"4.json\""
   ]
  },
  {
   "cell_type": "code",
   "execution_count": 7,
   "metadata": {},
   "outputs": [],
   "source": [
    "archivo = \"C:\\\\Users\\\\Giuliano\\\\Desktop\\\\Proyecto grupal\\\\Google maps\\\\metadata-sitios\\\\4.json\"\n",
    "\n",
    "import json\n",
    "import pandas as pd\n",
    "datos = []\n",
    "with open(archivo,\"r\") as archivo:\n",
    "    for linea in archivo:\n",
    "        objetos = json.loads(linea)\n",
    "        datos.append(objetos)\n",
    "\n",
    "df_sitios_4 = pd.DataFrame(datos)"
   ]
  },
  {
   "cell_type": "markdown",
   "metadata": {},
   "source": [
    "Abrimos archivo \"5.json\""
   ]
  },
  {
   "cell_type": "code",
   "execution_count": 8,
   "metadata": {},
   "outputs": [],
   "source": [
    "archivo = \"C:\\\\Users\\\\Giuliano\\\\Desktop\\\\Proyecto grupal\\\\Google maps\\\\metadata-sitios\\\\5.json\"\n",
    "datos = []\n",
    "\n",
    "with open(archivo, \"r\") as file:\n",
    "    for linea in file:\n",
    "        try:\n",
    "            data = json.loads(linea)\n",
    "            datos.append(data)\n",
    "        except json.JSONDecodeError as e:\n",
    "            print(f\"Error decoding JSON: {e}\")\n",
    "\n",
    "df_sitios_5 = pd.DataFrame(datos)"
   ]
  },
  {
   "cell_type": "markdown",
   "metadata": {},
   "source": [
    "Abrimos archivo \"6.json\""
   ]
  },
  {
   "cell_type": "code",
   "execution_count": 9,
   "metadata": {},
   "outputs": [],
   "source": [
    "archivo = \"C:\\\\Users\\\\Giuliano\\\\Desktop\\\\Proyecto grupal\\\\Google maps\\\\metadata-sitios\\\\6.json\"\n",
    "\n",
    "import json\n",
    "import pandas as pd\n",
    "datos = []\n",
    "with open(archivo,\"r\") as archivo:\n",
    "    for linea in archivo:\n",
    "        objetos = json.loads(linea)\n",
    "        datos.append(objetos)\n",
    "\n",
    "df_sitios_6 = pd.DataFrame(datos)"
   ]
  },
  {
   "cell_type": "markdown",
   "metadata": {},
   "source": [
    "Abrimos archivo \"7.json\""
   ]
  },
  {
   "cell_type": "code",
   "execution_count": 10,
   "metadata": {},
   "outputs": [],
   "source": [
    "archivo = \"C:\\\\Users\\\\Giuliano\\\\Desktop\\\\Proyecto grupal\\\\Google maps\\\\metadata-sitios\\\\7.json\"\n",
    "datos = []\n",
    "\n",
    "with open(archivo, \"r\") as file:\n",
    "    for linea in file:\n",
    "        try:\n",
    "            data = json.loads(linea)\n",
    "            datos.append(data)\n",
    "        except json.JSONDecodeError as e:\n",
    "            print(f\"Error decoding JSON: {e}\")\n",
    "\n",
    "df_sitios_7 = pd.DataFrame(datos)"
   ]
  },
  {
   "cell_type": "markdown",
   "metadata": {},
   "source": [
    "Abrimos archivo \"8.json\""
   ]
  },
  {
   "cell_type": "code",
   "execution_count": 11,
   "metadata": {},
   "outputs": [],
   "source": [
    "archivo = \"C:\\\\Users\\\\Giuliano\\\\Desktop\\\\Proyecto grupal\\\\Google maps\\\\metadata-sitios\\\\8.json\"\n",
    "datos = []\n",
    "\n",
    "with open(archivo, \"r\") as file:\n",
    "    for linea in file:\n",
    "        try:\n",
    "            data = json.loads(linea)\n",
    "            datos.append(data)\n",
    "        except json.JSONDecodeError as e:\n",
    "            print(f\"Error decoding JSON: {e}\")\n",
    "\n",
    "df_sitios_8  = pd.DataFrame(datos)"
   ]
  },
  {
   "cell_type": "markdown",
   "metadata": {},
   "source": [
    "Abrimos archivo \"9.json\""
   ]
  },
  {
   "cell_type": "code",
   "execution_count": 12,
   "metadata": {},
   "outputs": [],
   "source": [
    "archivo = \"C:\\\\Users\\\\Giuliano\\\\Desktop\\\\Proyecto grupal\\\\Google maps\\\\metadata-sitios\\\\9.json\"\n",
    "datos = []\n",
    "\n",
    "with open(archivo, \"r\") as file:\n",
    "    for linea in file:\n",
    "        try:\n",
    "            data = json.loads(linea)\n",
    "            datos.append(data)\n",
    "        except json.JSONDecodeError as e:\n",
    "            print(f\"Error decoding JSON: {e}\")\n",
    "\n",
    "df_sitios_9  = pd.DataFrame(datos)"
   ]
  },
  {
   "cell_type": "markdown",
   "metadata": {},
   "source": [
    "Abrimos archivo \"10.json\""
   ]
  },
  {
   "cell_type": "code",
   "execution_count": 13,
   "metadata": {},
   "outputs": [],
   "source": [
    "archivo = \"C:\\\\Users\\\\Giuliano\\\\Desktop\\\\Proyecto grupal\\\\Google maps\\\\metadata-sitios\\\\10.json\"\n",
    "datos = []\n",
    "\n",
    "with open(archivo, \"r\") as file:\n",
    "    for linea in file:\n",
    "        try:\n",
    "            data = json.loads(linea)\n",
    "            datos.append(data)\n",
    "        except json.JSONDecodeError as e:\n",
    "            print(f\"Error decoding JSON: {e}\")\n",
    "\n",
    "df_sitios_10  = pd.DataFrame(datos)"
   ]
  },
  {
   "cell_type": "markdown",
   "metadata": {},
   "source": [
    "Abrimos archivo \"11.json\""
   ]
  },
  {
   "cell_type": "code",
   "execution_count": 14,
   "metadata": {},
   "outputs": [],
   "source": [
    "archivo = \"C:\\\\Users\\\\Giuliano\\\\Desktop\\\\Proyecto grupal\\\\Google maps\\\\metadata-sitios\\\\11.json\"\n",
    "datos = []\n",
    "\n",
    "with open(archivo, \"r\") as file:\n",
    "    for linea in file:\n",
    "        try:\n",
    "            data = json.loads(linea)\n",
    "            datos.append(data)\n",
    "        except json.JSONDecodeError as e:\n",
    "            print(f\"Error decoding JSON: {e}\")\n",
    "\n",
    "df_sitios_11  = pd.DataFrame(datos)"
   ]
  },
  {
   "cell_type": "markdown",
   "metadata": {},
   "source": [
    "Concatenamos los dataframe"
   ]
  },
  {
   "cell_type": "code",
   "execution_count": 15,
   "metadata": {},
   "outputs": [],
   "source": [
    "sitios = [df_sitios_1, df_sitios_2, df_sitios_3, df_sitios_4, df_sitios_5, df_sitios_6, df_sitios_7, df_sitios_8,df_sitios_9,df_sitios_10,df_sitios_11]\n",
    "df_sitios = pd.concat(sitios, ignore_index=True)"
   ]
  },
  {
   "cell_type": "code",
   "execution_count": 5,
   "metadata": {},
   "outputs": [],
   "source": [
    "df_Restaurant = pd.read_csv(\"C:\\\\Users\\\\Giuliano\\\\Desktop\\\\Proyecto grupal\\\\df_Restaurant.csv\")"
   ]
  },
  {
   "cell_type": "code",
   "execution_count": 7,
   "metadata": {},
   "outputs": [],
   "source": [
    "# Renombramos los nulos de la columna \"category\"\n",
    "df_sitios['category'] = df_sitios['category'].fillna('')\n",
    "\n",
    "# Filtramos bussines que sean restaurantes\n",
    "df_Restaurant = df_sitios[df_sitios['category'].astype(str).str.contains('Restaurant', case=False)]"
   ]
  },
  {
   "cell_type": "markdown",
   "metadata": {},
   "source": [
    "Cantidad de restaurantes en Florida exceptuando Miami, Fort Laureald , Miami Gardens"
   ]
  },
  {
   "cell_type": "code",
   "execution_count": 9,
   "metadata": {},
   "outputs": [
    {
     "data": {
      "text/plain": [
       "Unnamed: 0          5031\n",
       "name                5031\n",
       "address             5031\n",
       "gmap_id             5031\n",
       "description         1382\n",
       "latitude            5031\n",
       "longitude           5031\n",
       "category            5031\n",
       "avg_rating          5031\n",
       "num_of_reviews      5031\n",
       "price               1680\n",
       "hours               4300\n",
       "MISC                5004\n",
       "state               4318\n",
       "relative_results    3523\n",
       "url                 5031\n",
       "dtype: int64"
      ]
     },
     "execution_count": 9,
     "metadata": {},
     "output_type": "execute_result"
    }
   ],
   "source": [
    "# Filtramos el estado de florida con la columna \"address\" \n",
    "df_Florida_Google = df_Restaurant[df_Restaurant[\"address\"].str.contains(\"FL\",na=False)]\n",
    "\n",
    "# Ciudades que no hay que filtrar\n",
    "Ciudades = ['Fort Lauderdale', 'Miami', 'Miami Gardens',\"Boca Raton\"]\n",
    "\n",
    "# Filtrar las filas que contienen los términos definidos\n",
    "filtrados = df_Florida_Google[df_Florida_Google['address'].str.contains('|'.join(Ciudades), case=False)]\n",
    "\n",
    "# Obtener las filas no filtradas del DataFrame original\n",
    "df_Florida_Google = df_Florida_Google[~df_Florida_Google.index.isin(filtrados.index)]\n",
    "df_Florida_Google.count()"
   ]
  },
  {
   "cell_type": "markdown",
   "metadata": {},
   "source": [
    "Existen 5031 restaurantes en florida exceptuando Fort Lauderdale, Miami, Miami Gardens y Boca Raton"
   ]
  },
  {
   "cell_type": "markdown",
   "metadata": {},
   "source": [
    "top 5 mayores restaurantes"
   ]
  },
  {
   "cell_type": "code",
   "execution_count": 11,
   "metadata": {},
   "outputs": [
    {
     "data": {
      "text/plain": [
       "category\n",
       "['Restaurant']                                                                              1292\n",
       "['Pizza restaurant']                                                                         142\n",
       "['Mexican restaurant']                                                                       136\n",
       "['Sandwich shop', 'Caterer', 'Fast food restaurant', 'Takeout Restaurant', 'Restaurant']     105\n",
       "['American restaurant']                                                                       85\n",
       "Name: count, dtype: int64"
      ]
     },
     "execution_count": 11,
     "metadata": {},
     "output_type": "execute_result"
    }
   ],
   "source": [
    "top_5_restaurantes = df_Florida_Google[\"category\"].value_counts().head(5)\n",
    "top_5_restaurantes"
   ]
  },
  {
   "cell_type": "markdown",
   "metadata": {},
   "source": [
    "Los retaurantes mas predominante son de pizza, mexicano, fast food, americano"
   ]
  },
  {
   "cell_type": "code",
   "execution_count": 12,
   "metadata": {},
   "outputs": [
    {
     "data": {
      "text/html": [
       "<div>\n",
       "<style scoped>\n",
       "    .dataframe tbody tr th:only-of-type {\n",
       "        vertical-align: middle;\n",
       "    }\n",
       "\n",
       "    .dataframe tbody tr th {\n",
       "        vertical-align: top;\n",
       "    }\n",
       "\n",
       "    .dataframe thead th {\n",
       "        text-align: right;\n",
       "    }\n",
       "</style>\n",
       "<table border=\"1\" class=\"dataframe\">\n",
       "  <thead>\n",
       "    <tr style=\"text-align: right;\">\n",
       "      <th></th>\n",
       "      <th>category</th>\n",
       "      <th>avg_rating</th>\n",
       "    </tr>\n",
       "  </thead>\n",
       "  <tbody>\n",
       "    <tr>\n",
       "      <th>1344</th>\n",
       "      <td>['Restaurant']</td>\n",
       "      <td>5464.2</td>\n",
       "    </tr>\n",
       "    <tr>\n",
       "      <th>982</th>\n",
       "      <td>['Mexican restaurant']</td>\n",
       "      <td>581.7</td>\n",
       "    </tr>\n",
       "    <tr>\n",
       "      <th>1119</th>\n",
       "      <td>['Pizza restaurant']</td>\n",
       "      <td>580.1</td>\n",
       "    </tr>\n",
       "    <tr>\n",
       "      <th>1364</th>\n",
       "      <td>['Sandwich shop', 'Caterer', 'Fast food restau...</td>\n",
       "      <td>399.4</td>\n",
       "    </tr>\n",
       "    <tr>\n",
       "      <th>70</th>\n",
       "      <td>['American restaurant']</td>\n",
       "      <td>360.7</td>\n",
       "    </tr>\n",
       "  </tbody>\n",
       "</table>\n",
       "</div>"
      ],
      "text/plain": [
       "                                               category  avg_rating\n",
       "1344                                     ['Restaurant']      5464.2\n",
       "982                              ['Mexican restaurant']       581.7\n",
       "1119                               ['Pizza restaurant']       580.1\n",
       "1364  ['Sandwich shop', 'Caterer', 'Fast food restau...       399.4\n",
       "70                              ['American restaurant']       360.7"
      ]
     },
     "execution_count": 12,
     "metadata": {},
     "output_type": "execute_result"
    }
   ],
   "source": [
    "grupo_categorias = df_Florida_Google.groupby('category')['avg_rating'].sum().reset_index()\n",
    "top_categorias = grupo_categorias.sort_values(by='avg_rating', ascending=False).head(5)\n",
    "top_categorias\n",
    "\n"
   ]
  },
  {
   "cell_type": "code",
   "execution_count": 13,
   "metadata": {},
   "outputs": [
    {
     "data": {
      "image/png": "[encoded data removed]",
      "text/plain": [
       "<Figure size 1000x600 with 1 Axes>"
      ]
     },
     "metadata": {},
     "output_type": "display_data"
    }
   ],
   "source": [
    "import matplotlib.pyplot as plt\n",
    "\n",
    "# Suponiendo que 'top_categorias' es el DataFrame con el top 5 de categorías y sus sumas de rating\n",
    "plt.figure(figsize=(10, 6))\n",
    "plt.barh(top_categorias['category'], top_categorias['avg_rating'], color='skyblue')\n",
    "plt.xlabel('Suma de Ratings')\n",
    "plt.ylabel('Categorías de Restaurantes')\n",
    "plt.title('Top 5 de Categorías de Restaurantes por Suma de Ratings')\n",
    "plt.gca().invert_yaxis()  # Invertir el eje y para mostrar la categoría con mayor rating en la parte superior\n",
    "plt.show()\n"
   ]
  },
  {
   "cell_type": "markdown",
   "metadata": {},
   "source": [
    "Los restaurantes con mejores calificaciones que aceptan pagos con tarjeta de crédito"
   ]
  },
  {
   "cell_type": "code",
   "execution_count": 58,
   "metadata": {},
   "outputs": [],
   "source": [
    "# Restaurantes que aceptan tarjeta de credito\n",
    "Tarjeta_credito = df_Florida_Google[df_Florida_Google['MISC'].str.contains(\"Credit Car\", case=False)]\n"
   ]
  },
  {
   "cell_type": "code",
   "execution_count": 68,
   "metadata": {},
   "outputs": [
    {
     "data": {
      "text/html": [
       "<div>\n",
       "<style scoped>\n",
       "    .dataframe tbody tr th:only-of-type {\n",
       "        vertical-align: middle;\n",
       "    }\n",
       "\n",
       "    .dataframe tbody tr th {\n",
       "        vertical-align: top;\n",
       "    }\n",
       "\n",
       "    .dataframe thead th {\n",
       "        text-align: right;\n",
       "    }\n",
       "</style>\n",
       "<table border=\"1\" class=\"dataframe\">\n",
       "  <thead>\n",
       "    <tr style=\"text-align: right;\">\n",
       "      <th></th>\n",
       "      <th>category</th>\n",
       "      <th>MISC</th>\n",
       "      <th>avg_rating</th>\n",
       "    </tr>\n",
       "  </thead>\n",
       "  <tbody>\n",
       "    <tr>\n",
       "      <th>139</th>\n",
       "      <td>['Convenience store', 'Breakfast restaurant', ...</td>\n",
       "      <td>{'Service options': ['Curbside pickup', 'No-co...</td>\n",
       "      <td>14.4</td>\n",
       "    </tr>\n",
       "    <tr>\n",
       "      <th>391</th>\n",
       "      <td>['Pizza restaurant', 'Hamburger restaurant', '...</td>\n",
       "      <td>{'Service options': ['Outdoor seating', 'Takeo...</td>\n",
       "      <td>10.0</td>\n",
       "    </tr>\n",
       "    <tr>\n",
       "      <th>465</th>\n",
       "      <td>['Restaurant', 'Colombian restaurant']</td>\n",
       "      <td>{'Service options': ['Outdoor seating', 'Curbs...</td>\n",
       "      <td>9.8</td>\n",
       "    </tr>\n",
       "    <tr>\n",
       "      <th>419</th>\n",
       "      <td>['Puerto Rican restaurant']</td>\n",
       "      <td>{'Service options': ['Takeout', 'Dine-in', 'De...</td>\n",
       "      <td>9.2</td>\n",
       "    </tr>\n",
       "    <tr>\n",
       "      <th>325</th>\n",
       "      <td>['Juice shop', 'Health food restaurant']</td>\n",
       "      <td>{'Service options': ['No-contact delivery', 'D...</td>\n",
       "      <td>8.4</td>\n",
       "    </tr>\n",
       "  </tbody>\n",
       "</table>\n",
       "</div>"
      ],
      "text/plain": [
       "                                              category  \\\n",
       "139  ['Convenience store', 'Breakfast restaurant', ...   \n",
       "391  ['Pizza restaurant', 'Hamburger restaurant', '...   \n",
       "465             ['Restaurant', 'Colombian restaurant']   \n",
       "419                        ['Puerto Rican restaurant']   \n",
       "325           ['Juice shop', 'Health food restaurant']   \n",
       "\n",
       "                                                  MISC  avg_rating  \n",
       "139  {'Service options': ['Curbside pickup', 'No-co...        14.4  \n",
       "391  {'Service options': ['Outdoor seating', 'Takeo...        10.0  \n",
       "465  {'Service options': ['Outdoor seating', 'Curbs...         9.8  \n",
       "419  {'Service options': ['Takeout', 'Dine-in', 'De...         9.2  \n",
       "325  {'Service options': ['No-contact delivery', 'D...         8.4  "
      ]
     },
     "execution_count": 68,
     "metadata": {},
     "output_type": "execute_result"
    }
   ],
   "source": [
    "# Agrupamos por \"category\" y \"MISC\", sumando la columna 'avg_rating'\n",
    "Tarjeta_credito = Tarjeta_credito.groupby(['category',\"MISC\"])['avg_rating'].sum().reset_index()\n",
    "# Ordenamos los 5 mejores puntajes\n",
    "Tarjeta_credito = Tarjeta_credito.sort_values(by='avg_rating', ascending=False)\n",
    "top_5_restaurante_credito = Tarjeta_credito.head(5)\n",
    "top_5_restaurante_credito"
   ]
  },
  {
   "cell_type": "code",
   "execution_count": 82,
   "metadata": {},
   "outputs": [
    {
     "name": "stderr",
     "output_type": "stream",
     "text": [
      "C:\\Users\\Giuliano\\AppData\\Local\\Temp\\ipykernel_2852\\1602191131.py:11: SettingWithCopyWarning: \n",
      "A value is trying to be set on a copy of a slice from a DataFrame.\n",
      "Try using .loc[row_indexer,col_indexer] = value instead\n",
      "\n",
      "See the caveats in the documentation: https://pandas.pydata.org/pandas-docs/stable/user_guide/indexing.html#returning-a-view-versus-a-copy\n",
      "  top_5_restaurante_credito['category'] = top_5_restaurante_credito['category'].replace(renombrar_categorias)\n"
     ]
    }
   ],
   "source": [
    "# Renomnramos categorias\n",
    "renombrar_categorias = {\n",
    "    \"['Convenience store', 'Breakfast restaurant', 'Cafe', 'Candy store', 'Cheesesteak restaurant', 'Coffee shop', 'Fast food restaurant', 'Gas station', 'Hoagie restaurant', 'Sandwich shop']\": 'Desayuno/Gasolinera/Golosinas',\n",
    "    \"['Pizza restaurant', 'Hamburger restaurant', 'Sandwich shop']\": 'Pizza/Hamburguesa',\n",
    "    \"['Restaurant', 'Colombian restaurant']\": \"Restaurante colombiano\",\n",
    "    \"['Puerto Rican restaurant']\" : \"Restaurante puertoriqueño\",\n",
    "    \"['Juice shop', 'Health food restaurant']\": 'Comida Saludable/Jugos'\n",
    "}\n",
    "\n",
    "# Reemplazar los nombres de las categorías en el DataFrame\n",
    "top_5_restaurante_credito['category'] = top_5_restaurante_credito['category'].replace(renombrar_categorias)"
   ]
  },
  {
   "cell_type": "code",
   "execution_count": 85,
   "metadata": {},
   "outputs": [
    {
     "data": {
      "image/png": "[encoded data removed]",
      "text/plain": [
       "<Figure size 1000x600 with 1 Axes>"
      ]
     },
     "metadata": {},
     "output_type": "display_data"
    }
   ],
   "source": [
    "plt.figure(figsize=(10, 6))\n",
    "plt.bar(top_5_restaurante_credito['category'], top_5_restaurante_credito[\"avg_rating\"], color='green')\n",
    "plt.title('Top 5 Restaurantes con Mejores Puntajes')\n",
    "plt.xlabel('Restaurante')\n",
    "plt.ylabel('Puntaje')\n",
    "plt.xticks(rotation=45, ha='right')\n",
    "\n",
    "\n",
    "# Mostrar el gráfico\n",
    "plt.show()"
   ]
  },
  {
   "cell_type": "markdown",
   "metadata": {},
   "source": [
    "Los restaurantes mejor valorados que aceptan tarjeta de credito"
   ]
  },
  {
   "cell_type": "markdown",
   "metadata": {},
   "source": [
    " Restaurante que tienen servicio de delivery"
   ]
  },
  {
   "cell_type": "code",
   "execution_count": 14,
   "metadata": {},
   "outputs": [
    {
     "data": {
      "text/plain": [
       "4457"
      ]
     },
     "execution_count": 14,
     "metadata": {},
     "output_type": "execute_result"
    }
   ],
   "source": [
    "# Rellenamos valores faltantes\n",
    "df_Florida_Google['MISC'].fillna('', inplace=True)\n",
    "# Observamos los restaurantes que tienen dleivery\n",
    "delivery = df_Florida_Google[df_Florida_Google['MISC'].str.contains(\"Delivery\", case=False)]\n",
    "delivery[\"MISC\"].count()"
   ]
  },
  {
   "cell_type": "markdown",
   "metadata": {},
   "source": [
    "4457 restaurantes tienen servicio de delivery"
   ]
  },
  {
   "cell_type": "markdown",
   "metadata": {},
   "source": [
    "Grafico Circular, Porcentaje de Restaurantes con y sin Servicio de Delivery en Florida"
   ]
  },
  {
   "cell_type": "code",
   "execution_count": 15,
   "metadata": {},
   "outputs": [
    {
     "data": {
      "image/png": "[encoded data removed]",
      "text/plain": [
       "<Figure size 800x600 with 1 Axes>"
      ]
     },
     "metadata": {},
     "output_type": "display_data"
    }
   ],
   "source": [
    "import matplotlib.pyplot as plt\n",
    "\n",
    "# Datos\n",
    "total_restaurantes = 5031\n",
    "con_delivery = 4457\n",
    "sin_delivery = total_restaurantes - con_delivery\n",
    "\n",
    "# Etiquetas y valores para el gráfico\n",
    "etiquetas = ['Con Delivery', 'Sin Delivery']\n",
    "valores = [con_delivery, sin_delivery]\n",
    "colores = ['#ff9999','#66b3ff']\n",
    "\n",
    "# Crear gráfico de torta\n",
    "plt.figure(figsize=(8, 6))\n",
    "plt.pie(valores, labels=etiquetas, colors=colores, autopct='%1.1f%%', startangle=90)\n",
    "plt.title('Distribución de Restaurantes con y sin Servicio de Delivery')\n",
    "plt.axis('equal')  # Hace que el gráfico sea un círculo en lugar de una elipse\n",
    "\n",
    "# Mostrar el gráfico\n",
    "plt.show()\n"
   ]
  },
  {
   "cell_type": "markdown",
   "metadata": {},
   "source": [
    "Concatenamos 11 archivos JSON en 'metadata-sitios', se procedió a filtrar los 5031 restaurantes en Florida, excluyendo Fort Lauderdale, Miami, Miami Gardens y Boca Raton. De este conjunto, un 88.6% ofrece servicio de entrega a domicilio. La categoría más valorada que acepta tarjeta de crédito es la de Desayuno/Gasolinera/Golosinas. Entre las categorías con mejores puntajes se destacan los restaurantes de pizza, comida mexicana, locales de comida rápida y cocinas estadounidenses.\n",
    "\n",
    "Considerando estos datos, explorar la inversión en un restaurante con estas tendencias puede tener resultados."
   ]
  },
  {
   "cell_type": "markdown",
   "metadata": {},
   "source": [
    "## Reviews-Florida"
   ]
  },
  {
   "cell_type": "code",
   "execution_count": null,
   "metadata": {},
   "outputs": [],
   "source": [
    "datos = []\n",
    "with open('C:\\\\Users\\\\Giuliano\\\\Desktop\\\\Proyecto grupal\\\\Google maps\\\\review_Florida\\\\8.json',\"r\",encoding=\"utf-8\") as archivo:\n",
    "    for linea in archivo:\n",
    "        objeto_json = json.loads(linea)\n",
    "        datos.append(objeto_json)\n",
    "\n",
    "df_review_8 = pd.DataFrame(datos)\n"
   ]
  },
  {
   "cell_type": "code",
   "execution_count": null,
   "metadata": {},
   "outputs": [],
   "source": [
    "datos = []\n",
    "with open('C:\\\\Users\\\\Giuliano\\\\Desktop\\\\Proyecto grupal\\\\Google maps\\\\review_Florida\\\\10.json',\"r\",encoding=\"utf-8\") as archivo:\n",
    "    for linea in archivo:\n",
    "        objeto_json = json.loads(linea)\n",
    "        datos.append(objeto_json)\n",
    "\n",
    "df_review_10 = pd.DataFrame(datos)\n"
   ]
  },
  {
   "cell_type": "code",
   "execution_count": null,
   "metadata": {},
   "outputs": [],
   "source": [
    "datos = []\n",
    "with open('C:\\\\Users\\\\Giuliano\\\\Desktop\\\\Proyecto grupal\\\\Google maps\\\\review_Florida\\\\11.json',\"r\",encoding=\"utf-8\") as archivo:\n",
    "    for linea in archivo:\n",
    "        objeto_json = json.loads(linea)\n",
    "        datos.append(objeto_json)\n",
    "\n",
    "df_review_11 = pd.DataFrame(datos)\n"
   ]
  },
  {
   "cell_type": "code",
   "execution_count": null,
   "metadata": {},
   "outputs": [],
   "source": [
    "datos = []\n",
    "with open('C:\\\\Users\\\\Giuliano\\\\Desktop\\\\Proyecto grupal\\\\Google maps\\\\review_Florida\\\\14.json',\"r\",encoding=\"utf-8\") as archivo:\n",
    "    for linea in archivo:\n",
    "        objeto_json = json.loads(linea)\n",
    "        datos.append(objeto_json)\n",
    "\n",
    "df_review_14 = pd.DataFrame(datos)"
   ]
  },
  {
   "cell_type": "code",
   "execution_count": null,
   "metadata": {},
   "outputs": [],
   "source": [
    "datos = []\n",
    "with open('C:\\\\Users\\\\Giuliano\\\\Desktop\\\\Proyecto grupal\\\\Google maps\\\\review_Florida\\\\17.json',\"r\",encoding=\"utf-8\") as archivo:\n",
    "    for linea in archivo:\n",
    "        objeto_json = json.loads(linea)\n",
    "        datos.append(objeto_json)\n",
    "\n",
    "df_review_17 = pd.DataFrame(datos)"
   ]
  },
  {
   "cell_type": "code",
   "execution_count": null,
   "metadata": {},
   "outputs": [],
   "source": [
    "datos = []\n",
    "with open('C:\\\\Users\\\\Giuliano\\\\Desktop\\\\Proyecto grupal\\\\Google maps\\\\review_Florida\\\\18.json',\"r\",encoding=\"utf-8\") as archivo:\n",
    "    for linea in archivo:\n",
    "        objeto_json = json.loads(linea)\n",
    "        datos.append(objeto_json)\n",
    "\n",
    "df_review_18 = pd.DataFrame(datos)"
   ]
  },
  {
   "cell_type": "code",
   "execution_count": null,
   "metadata": {},
   "outputs": [],
   "source": [
    "merge_1 = pd.merge(df_review_8,df_review_10,on=\"user_id\",how=\"inner\")\n",
    "merge_2 = pd.merge(merge_1,df_review_11,on=\"user_id\",how=\"inner\")"
   ]
  },
  {
   "cell_type": "code",
   "execution_count": null,
   "metadata": {},
   "outputs": [],
   "source": [
    "lista= [\"name_x\",\"time_x\",\"rating_x\",\"text_x\",\"pics_x\",\"resp_x\",\"gmap_id_x\",\"name_y\",\"time_y\",\"rating_y\",\"text_y\",\"pics_y\",\"resp_y\",\"gmap_id_y\"]\n",
    "merge_2 = merge_2.drop(columns=lista)"
   ]
  },
  {
   "cell_type": "code",
   "execution_count": null,
   "metadata": {},
   "outputs": [],
   "source": [
    "merge_3 = pd.merge(merge_2,df_review_14,on=\"user_id\",how=\"inner\")\n",
    "merge_4 = pd.merge(merge_3,df_review_17,on=\"user_id\",how=\"inner\")"
   ]
  },
  {
   "cell_type": "code",
   "execution_count": null,
   "metadata": {},
   "outputs": [],
   "source": [
    "lista= [\"name_x\",\"time_x\",\"rating_x\",\"text_x\",\"pics_x\",\"resp_x\",\"gmap_id_x\",\"name_y\",\"time_y\",\"rating_y\",\"text_y\",\"pics_y\",\"resp_y\",\"gmap_id_y\"]\n",
    "merge_4 = merge_4.drop(columns=lista)\n",
    "merge_5 = pd.merge(merge_4,df_review_18,on=\"user_id\",how=\"inner\")"
   ]
  },
  {
   "cell_type": "code",
   "execution_count": null,
   "metadata": {},
   "outputs": [],
   "source": [
    "lista= [\"name_y\",\"time_y\",\"rating_y\",\"text_y\",\"pics_y\",\"resp_y\",\"gmap_id_y\"]\n",
    "df_reviews_maps = merge_5.drop(columns=lista)"
   ]
  },
  {
   "cell_type": "code",
   "execution_count": null,
   "metadata": {},
   "outputs": [],
   "source": [
    "df_reviews_maps.to_csv(\"df_reviews_maps.csv\")"
   ]
  },
  {
   "cell_type": "code",
   "execution_count": null,
   "metadata": {},
   "outputs": [
    {
     "name": "stderr",
     "output_type": "stream",
     "text": [
      "C:\\Users\\Giuliano\\AppData\\Local\\Temp\\ipykernel_7176\\3646677170.py:1: DtypeWarning: Columns (5,6,7) have mixed types. Specify dtype option on import or set low_memory=False.\n",
      "  pd.read_csv(\"df_reviews_maps.csv\")\n"
     ]
    },
    {
     "data": {
      "text/html": [
       "<div>\n",
       "<style scoped>\n",
       "    .dataframe tbody tr th:only-of-type {\n",
       "        vertical-align: middle;\n",
       "    }\n",
       "\n",
       "    .dataframe tbody tr th {\n",
       "        vertical-align: top;\n",
       "    }\n",
       "\n",
       "    .dataframe thead th {\n",
       "        text-align: right;\n",
       "    }\n",
       "</style>\n",
       "<table border=\"1\" class=\"dataframe\">\n",
       "  <thead>\n",
       "    <tr style=\"text-align: right;\">\n",
       "      <th></th>\n",
       "      <th>Unnamed: 0</th>\n",
       "      <th>user_id</th>\n",
       "      <th>name_x</th>\n",
       "      <th>time_x</th>\n",
       "      <th>rating_x</th>\n",
       "      <th>text_x</th>\n",
       "      <th>pics_x</th>\n",
       "      <th>resp_x</th>\n",
       "      <th>gmap_id_x</th>\n",
       "    </tr>\n",
       "  </thead>\n",
       "  <tbody>\n",
       "    <tr>\n",
       "      <th>0</th>\n",
       "      <td>0</td>\n",
       "      <td>101979910797375182031</td>\n",
       "      <td>Li Zephyr</td>\n",
       "      <td>1583346035826</td>\n",
       "      <td>5</td>\n",
       "      <td>NaN</td>\n",
       "      <td>NaN</td>\n",
       "      <td>NaN</td>\n",
       "      <td>0x88e77c4a94a8278b:0x391d52e0b192f1d3</td>\n",
       "    </tr>\n",
       "    <tr>\n",
       "      <th>1</th>\n",
       "      <td>1</td>\n",
       "      <td>113992450246527333718</td>\n",
       "      <td>Erik Kling</td>\n",
       "      <td>1476977652621</td>\n",
       "      <td>5</td>\n",
       "      <td>NaN</td>\n",
       "      <td>NaN</td>\n",
       "      <td>NaN</td>\n",
       "      <td>0x88d0d94e5f4a099d:0x6f78101fcc3b6ed7</td>\n",
       "    </tr>\n",
       "    <tr>\n",
       "      <th>2</th>\n",
       "      <td>2</td>\n",
       "      <td>113992450246527333718</td>\n",
       "      <td>Erik Kling</td>\n",
       "      <td>1476977652621</td>\n",
       "      <td>5</td>\n",
       "      <td>NaN</td>\n",
       "      <td>NaN</td>\n",
       "      <td>NaN</td>\n",
       "      <td>0x88d0d94e5f4a099d:0x6f78101fcc3b6ed7</td>\n",
       "    </tr>\n",
       "    <tr>\n",
       "      <th>3</th>\n",
       "      <td>3</td>\n",
       "      <td>113992450246527333718</td>\n",
       "      <td>Erik Kling</td>\n",
       "      <td>1476977652621</td>\n",
       "      <td>5</td>\n",
       "      <td>NaN</td>\n",
       "      <td>NaN</td>\n",
       "      <td>NaN</td>\n",
       "      <td>0x88d0d94e5f4a099d:0x6f78101fcc3b6ed7</td>\n",
       "    </tr>\n",
       "    <tr>\n",
       "      <th>4</th>\n",
       "      <td>4</td>\n",
       "      <td>113992450246527333718</td>\n",
       "      <td>Erik Kling</td>\n",
       "      <td>1476977652621</td>\n",
       "      <td>5</td>\n",
       "      <td>NaN</td>\n",
       "      <td>NaN</td>\n",
       "      <td>NaN</td>\n",
       "      <td>0x88d0d94e5f4a099d:0x6f78101fcc3b6ed7</td>\n",
       "    </tr>\n",
       "    <tr>\n",
       "      <th>...</th>\n",
       "      <td>...</td>\n",
       "      <td>...</td>\n",
       "      <td>...</td>\n",
       "      <td>...</td>\n",
       "      <td>...</td>\n",
       "      <td>...</td>\n",
       "      <td>...</td>\n",
       "      <td>...</td>\n",
       "      <td>...</td>\n",
       "    </tr>\n",
       "    <tr>\n",
       "      <th>1427576</th>\n",
       "      <td>1427576</td>\n",
       "      <td>114197646375603773697</td>\n",
       "      <td>Adrian Oropeza</td>\n",
       "      <td>1600984670010</td>\n",
       "      <td>5</td>\n",
       "      <td>Outstanding quality, service, honesty, prices ...</td>\n",
       "      <td>NaN</td>\n",
       "      <td>NaN</td>\n",
       "      <td>0x88d908719a5ea8c9:0xbd0669172d9fb0b2</td>\n",
       "    </tr>\n",
       "    <tr>\n",
       "      <th>1427577</th>\n",
       "      <td>1427577</td>\n",
       "      <td>114197646375603773697</td>\n",
       "      <td>Adrian Oropeza</td>\n",
       "      <td>1600984670010</td>\n",
       "      <td>5</td>\n",
       "      <td>Outstanding quality, service, honesty, prices ...</td>\n",
       "      <td>NaN</td>\n",
       "      <td>NaN</td>\n",
       "      <td>0x88d908719a5ea8c9:0xbd0669172d9fb0b2</td>\n",
       "    </tr>\n",
       "    <tr>\n",
       "      <th>1427578</th>\n",
       "      <td>1427578</td>\n",
       "      <td>114197646375603773697</td>\n",
       "      <td>Adrian Oropeza</td>\n",
       "      <td>1600984670010</td>\n",
       "      <td>5</td>\n",
       "      <td>Outstanding quality, service, honesty, prices ...</td>\n",
       "      <td>NaN</td>\n",
       "      <td>NaN</td>\n",
       "      <td>0x88d908719a5ea8c9:0xbd0669172d9fb0b2</td>\n",
       "    </tr>\n",
       "    <tr>\n",
       "      <th>1427579</th>\n",
       "      <td>1427579</td>\n",
       "      <td>114197646375603773697</td>\n",
       "      <td>Adrian Oropeza</td>\n",
       "      <td>1600984670010</td>\n",
       "      <td>5</td>\n",
       "      <td>Outstanding quality, service, honesty, prices ...</td>\n",
       "      <td>NaN</td>\n",
       "      <td>NaN</td>\n",
       "      <td>0x88d908719a5ea8c9:0xbd0669172d9fb0b2</td>\n",
       "    </tr>\n",
       "    <tr>\n",
       "      <th>1427580</th>\n",
       "      <td>1427580</td>\n",
       "      <td>114629205184233229430</td>\n",
       "      <td>Adolfo Bonilla</td>\n",
       "      <td>1601605697168</td>\n",
       "      <td>4</td>\n",
       "      <td>...close to home, treated me great. Only compl...</td>\n",
       "      <td>NaN</td>\n",
       "      <td>NaN</td>\n",
       "      <td>0x88d900e4970f9b33:0xfae347a7d39be4da</td>\n",
       "    </tr>\n",
       "  </tbody>\n",
       "</table>\n",
       "<p>1427581 rows × 9 columns</p>\n",
       "</div>"
      ],
      "text/plain": [
       "         Unnamed: 0                user_id          name_x         time_x  \\\n",
       "0                 0  101979910797375182031       Li Zephyr  1583346035826   \n",
       "1                 1  113992450246527333718      Erik Kling  1476977652621   \n",
       "2                 2  113992450246527333718      Erik Kling  1476977652621   \n",
       "3                 3  113992450246527333718      Erik Kling  1476977652621   \n",
       "4                 4  113992450246527333718      Erik Kling  1476977652621   \n",
       "...             ...                    ...             ...            ...   \n",
       "1427576     1427576  114197646375603773697  Adrian Oropeza  1600984670010   \n",
       "1427577     1427577  114197646375603773697  Adrian Oropeza  1600984670010   \n",
       "1427578     1427578  114197646375603773697  Adrian Oropeza  1600984670010   \n",
       "1427579     1427579  114197646375603773697  Adrian Oropeza  1600984670010   \n",
       "1427580     1427580  114629205184233229430  Adolfo Bonilla  1601605697168   \n",
       "\n",
       "         rating_x                                             text_x pics_x  \\\n",
       "0               5                                                NaN    NaN   \n",
       "1               5                                                NaN    NaN   \n",
       "2               5                                                NaN    NaN   \n",
       "3               5                                                NaN    NaN   \n",
       "4               5                                                NaN    NaN   \n",
       "...           ...                                                ...    ...   \n",
       "1427576         5  Outstanding quality, service, honesty, prices ...    NaN   \n",
       "1427577         5  Outstanding quality, service, honesty, prices ...    NaN   \n",
       "1427578         5  Outstanding quality, service, honesty, prices ...    NaN   \n",
       "1427579         5  Outstanding quality, service, honesty, prices ...    NaN   \n",
       "1427580         4  ...close to home, treated me great. Only compl...    NaN   \n",
       "\n",
       "        resp_x                              gmap_id_x  \n",
       "0          NaN  0x88e77c4a94a8278b:0x391d52e0b192f1d3  \n",
       "1          NaN  0x88d0d94e5f4a099d:0x6f78101fcc3b6ed7  \n",
       "2          NaN  0x88d0d94e5f4a099d:0x6f78101fcc3b6ed7  \n",
       "3          NaN  0x88d0d94e5f4a099d:0x6f78101fcc3b6ed7  \n",
       "4          NaN  0x88d0d94e5f4a099d:0x6f78101fcc3b6ed7  \n",
       "...        ...                                    ...  \n",
       "1427576    NaN  0x88d908719a5ea8c9:0xbd0669172d9fb0b2  \n",
       "1427577    NaN  0x88d908719a5ea8c9:0xbd0669172d9fb0b2  \n",
       "1427578    NaN  0x88d908719a5ea8c9:0xbd0669172d9fb0b2  \n",
       "1427579    NaN  0x88d908719a5ea8c9:0xbd0669172d9fb0b2  \n",
       "1427580    NaN  0x88d900e4970f9b33:0xfae347a7d39be4da  \n",
       "\n",
       "[1427581 rows x 9 columns]"
      ]
     },
     "execution_count": 6,
     "metadata": {},
     "output_type": "execute_result"
    }
   ],
   "source": [
    "pd.read_csv(\"df_reviews_maps.csv\")"
   ]
  },
  {
   "cell_type": "code",
   "execution_count": null,
   "metadata": {},
   "outputs": [
    {
     "data": {
      "text/html": [
       "<div>\n",
       "<style scoped>\n",
       "    .dataframe tbody tr th:only-of-type {\n",
       "        vertical-align: middle;\n",
       "    }\n",
       "\n",
       "    .dataframe tbody tr th {\n",
       "        vertical-align: top;\n",
       "    }\n",
       "\n",
       "    .dataframe thead th {\n",
       "        text-align: right;\n",
       "    }\n",
       "</style>\n",
       "<table border=\"1\" class=\"dataframe\">\n",
       "  <thead>\n",
       "    <tr style=\"text-align: right;\">\n",
       "      <th></th>\n",
       "      <th>Unnamed: 0</th>\n",
       "      <th>user_id</th>\n",
       "      <th>name_x</th>\n",
       "      <th>time_x</th>\n",
       "      <th>rating_x</th>\n",
       "      <th>text_x</th>\n",
       "      <th>pics_x</th>\n",
       "      <th>resp_x</th>\n",
       "      <th>gmap_id_x</th>\n",
       "    </tr>\n",
       "  </thead>\n",
       "  <tbody>\n",
       "    <tr>\n",
       "      <th>0</th>\n",
       "      <td>0</td>\n",
       "      <td>101979910797375182031</td>\n",
       "      <td>Li Zephyr</td>\n",
       "      <td>1583346035826</td>\n",
       "      <td>5</td>\n",
       "      <td>NaN</td>\n",
       "      <td>NaN</td>\n",
       "      <td>NaN</td>\n",
       "      <td>0x88e77c4a94a8278b:0x391d52e0b192f1d3</td>\n",
       "    </tr>\n",
       "    <tr>\n",
       "      <th>1</th>\n",
       "      <td>1</td>\n",
       "      <td>113992450246527333718</td>\n",
       "      <td>Erik Kling</td>\n",
       "      <td>1476977652621</td>\n",
       "      <td>5</td>\n",
       "      <td>NaN</td>\n",
       "      <td>NaN</td>\n",
       "      <td>NaN</td>\n",
       "      <td>0x88d0d94e5f4a099d:0x6f78101fcc3b6ed7</td>\n",
       "    </tr>\n",
       "    <tr>\n",
       "      <th>2</th>\n",
       "      <td>2</td>\n",
       "      <td>113992450246527333718</td>\n",
       "      <td>Erik Kling</td>\n",
       "      <td>1476977652621</td>\n",
       "      <td>5</td>\n",
       "      <td>NaN</td>\n",
       "      <td>NaN</td>\n",
       "      <td>NaN</td>\n",
       "      <td>0x88d0d94e5f4a099d:0x6f78101fcc3b6ed7</td>\n",
       "    </tr>\n",
       "    <tr>\n",
       "      <th>3</th>\n",
       "      <td>3</td>\n",
       "      <td>113992450246527333718</td>\n",
       "      <td>Erik Kling</td>\n",
       "      <td>1476977652621</td>\n",
       "      <td>5</td>\n",
       "      <td>NaN</td>\n",
       "      <td>NaN</td>\n",
       "      <td>NaN</td>\n",
       "      <td>0x88d0d94e5f4a099d:0x6f78101fcc3b6ed7</td>\n",
       "    </tr>\n",
       "    <tr>\n",
       "      <th>4</th>\n",
       "      <td>4</td>\n",
       "      <td>113992450246527333718</td>\n",
       "      <td>Erik Kling</td>\n",
       "      <td>1476977652621</td>\n",
       "      <td>5</td>\n",
       "      <td>NaN</td>\n",
       "      <td>NaN</td>\n",
       "      <td>NaN</td>\n",
       "      <td>0x88d0d94e5f4a099d:0x6f78101fcc3b6ed7</td>\n",
       "    </tr>\n",
       "    <tr>\n",
       "      <th>...</th>\n",
       "      <td>...</td>\n",
       "      <td>...</td>\n",
       "      <td>...</td>\n",
       "      <td>...</td>\n",
       "      <td>...</td>\n",
       "      <td>...</td>\n",
       "      <td>...</td>\n",
       "      <td>...</td>\n",
       "      <td>...</td>\n",
       "    </tr>\n",
       "    <tr>\n",
       "      <th>1427576</th>\n",
       "      <td>1427576</td>\n",
       "      <td>114197646375603773697</td>\n",
       "      <td>Adrian Oropeza</td>\n",
       "      <td>1600984670010</td>\n",
       "      <td>5</td>\n",
       "      <td>Outstanding quality, service, honesty, prices ...</td>\n",
       "      <td>NaN</td>\n",
       "      <td>NaN</td>\n",
       "      <td>0x88d908719a5ea8c9:0xbd0669172d9fb0b2</td>\n",
       "    </tr>\n",
       "    <tr>\n",
       "      <th>1427577</th>\n",
       "      <td>1427577</td>\n",
       "      <td>114197646375603773697</td>\n",
       "      <td>Adrian Oropeza</td>\n",
       "      <td>1600984670010</td>\n",
       "      <td>5</td>\n",
       "      <td>Outstanding quality, service, honesty, prices ...</td>\n",
       "      <td>NaN</td>\n",
       "      <td>NaN</td>\n",
       "      <td>0x88d908719a5ea8c9:0xbd0669172d9fb0b2</td>\n",
       "    </tr>\n",
       "    <tr>\n",
       "      <th>1427578</th>\n",
       "      <td>1427578</td>\n",
       "      <td>114197646375603773697</td>\n",
       "      <td>Adrian Oropeza</td>\n",
       "      <td>1600984670010</td>\n",
       "      <td>5</td>\n",
       "      <td>Outstanding quality, service, honesty, prices ...</td>\n",
       "      <td>NaN</td>\n",
       "      <td>NaN</td>\n",
       "      <td>0x88d908719a5ea8c9:0xbd0669172d9fb0b2</td>\n",
       "    </tr>\n",
       "    <tr>\n",
       "      <th>1427579</th>\n",
       "      <td>1427579</td>\n",
       "      <td>114197646375603773697</td>\n",
       "      <td>Adrian Oropeza</td>\n",
       "      <td>1600984670010</td>\n",
       "      <td>5</td>\n",
       "      <td>Outstanding quality, service, honesty, prices ...</td>\n",
       "      <td>NaN</td>\n",
       "      <td>NaN</td>\n",
       "      <td>0x88d908719a5ea8c9:0xbd0669172d9fb0b2</td>\n",
       "    </tr>\n",
       "    <tr>\n",
       "      <th>1427580</th>\n",
       "      <td>1427580</td>\n",
       "      <td>114629205184233229430</td>\n",
       "      <td>Adolfo Bonilla</td>\n",
       "      <td>1601605697168</td>\n",
       "      <td>4</td>\n",
       "      <td>...close to home, treated me great. Only compl...</td>\n",
       "      <td>NaN</td>\n",
       "      <td>NaN</td>\n",
       "      <td>0x88d900e4970f9b33:0xfae347a7d39be4da</td>\n",
       "    </tr>\n",
       "  </tbody>\n",
       "</table>\n",
       "<p>1427581 rows × 9 columns</p>\n",
       "</div>"
      ],
      "text/plain": [
       "         Unnamed: 0                user_id          name_x         time_x  \\\n",
       "0                 0  101979910797375182031       Li Zephyr  1583346035826   \n",
       "1                 1  113992450246527333718      Erik Kling  1476977652621   \n",
       "2                 2  113992450246527333718      Erik Kling  1476977652621   \n",
       "3                 3  113992450246527333718      Erik Kling  1476977652621   \n",
       "4                 4  113992450246527333718      Erik Kling  1476977652621   \n",
       "...             ...                    ...             ...            ...   \n",
       "1427576     1427576  114197646375603773697  Adrian Oropeza  1600984670010   \n",
       "1427577     1427577  114197646375603773697  Adrian Oropeza  1600984670010   \n",
       "1427578     1427578  114197646375603773697  Adrian Oropeza  1600984670010   \n",
       "1427579     1427579  114197646375603773697  Adrian Oropeza  1600984670010   \n",
       "1427580     1427580  114629205184233229430  Adolfo Bonilla  1601605697168   \n",
       "\n",
       "         rating_x                                             text_x pics_x  \\\n",
       "0               5                                                NaN    NaN   \n",
       "1               5                                                NaN    NaN   \n",
       "2               5                                                NaN    NaN   \n",
       "3               5                                                NaN    NaN   \n",
       "4               5                                                NaN    NaN   \n",
       "...           ...                                                ...    ...   \n",
       "1427576         5  Outstanding quality, service, honesty, prices ...    NaN   \n",
       "1427577         5  Outstanding quality, service, honesty, prices ...    NaN   \n",
       "1427578         5  Outstanding quality, service, honesty, prices ...    NaN   \n",
       "1427579         5  Outstanding quality, service, honesty, prices ...    NaN   \n",
       "1427580         4  ...close to home, treated me great. Only compl...    NaN   \n",
       "\n",
       "        resp_x                              gmap_id_x  \n",
       "0          NaN  0x88e77c4a94a8278b:0x391d52e0b192f1d3  \n",
       "1          NaN  0x88d0d94e5f4a099d:0x6f78101fcc3b6ed7  \n",
       "2          NaN  0x88d0d94e5f4a099d:0x6f78101fcc3b6ed7  \n",
       "3          NaN  0x88d0d94e5f4a099d:0x6f78101fcc3b6ed7  \n",
       "4          NaN  0x88d0d94e5f4a099d:0x6f78101fcc3b6ed7  \n",
       "...        ...                                    ...  \n",
       "1427576    NaN  0x88d908719a5ea8c9:0xbd0669172d9fb0b2  \n",
       "1427577    NaN  0x88d908719a5ea8c9:0xbd0669172d9fb0b2  \n",
       "1427578    NaN  0x88d908719a5ea8c9:0xbd0669172d9fb0b2  \n",
       "1427579    NaN  0x88d908719a5ea8c9:0xbd0669172d9fb0b2  \n",
       "1427580    NaN  0x88d900e4970f9b33:0xfae347a7d39be4da  \n",
       "\n",
       "[1427581 rows x 9 columns]"
      ]
     },
     "execution_count": 7,
     "metadata": {},
     "output_type": "execute_result"
    }
   ],
   "source": [
    "df_reviews_maps"
   ]
  }
 ],
 "metadata": {
  "kernelspec": {
   "display_name": "Python 3",
   "language": "python",
   "name": "python3"
  },
  "language_info": {
   "codemirror_mode": {
    "name": "ipython",
    "version": 3
   },
   "file_extension": ".py",
   "mimetype": "text/x-python",
   "name": "python",
   "nbconvert_exporter": "python",
   "pygments_lexer": "ipython3",
   "version": "3.9.13"
  }
 },
 "nbformat": 4,
 "nbformat_minor": 2
}
